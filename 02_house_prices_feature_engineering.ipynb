{
 "cells": [
  {
   "cell_type": "code",
   "execution_count": 597,
   "metadata": {},
   "outputs": [],
   "source": [
    "import numpy as np\n",
    "import pandas as pd\n",
    "\n",
    "import scipy.stats as st\n",
    "# from scipy.stats import skew\n",
    "# from math import sqrt\n",
    "# import missingno as msno\n",
    "\n",
    "import matplotlib.pyplot as plt\n",
    "import seaborn as sns\n",
    "# import plotly.plotly as py\n",
    "# import plotly.graph_objs as go\n",
    "# from plotly import tools\n",
    "# from plotly.offline import init_notebook_mode, iplot\n",
    "# init_notebook_mode(connected=True)\n",
    "%matplotlib inline\n",
    "sns.set()\n",
    "\n",
    "from sklearn.impute import SimpleImputer\n",
    "from sklearn.pipeline import make_pipeline\n",
    "# from sklearn.compose import ColumnTransformer\n",
    "from sklearn.preprocessing import PowerTransformer\n",
    "from sklearn.preprocessing import OneHotEncoder\n",
    "from sklearn.preprocessing import StandardScaler\n",
    "from sklearn.preprocessing import LabelEncoder\n",
    "# from sklearn.preprocessing import PolynomialFeatures\n",
    "from sklearn.preprocessing import RobustScaler\n",
    "# from sklearn.model_selection import train_test_split\n",
    "from sklearn.model_selection import cross_val_score\n",
    "# from sklearn.model_selection import GridSearchCV\n",
    "from sklearn.model_selection import KFold\n",
    "from sklearn.linear_model import Lasso\n",
    "# from sklearn.linear_model import LassoCV\n",
    "from sklearn.linear_model import Ridge\n",
    "# from sklearn.linear_model import RidgeCV\n",
    "from sklearn.linear_model import ElasticNet\n",
    "# from sklearn.linear_model import ElasticNetCV\n",
    "# from sklearn.linear_model import BayesianRidge\n",
    "# from sklearn.linear_model import LassoLarsIC\n",
    "# from sklearn.ensemble import RandomForestRegressor\n",
    "from sklearn.ensemble import GradientBoostingRegressor\n",
    "from sklearn.kernel_ridge import KernelRidge\n",
    "from sklearn.base import BaseEstimator\n",
    "from sklearn.base import TransformerMixin\n",
    "from sklearn.base import RegressorMixin\n",
    "from sklearn.base import clone\n",
    "# from sklearn.metrics import mean_squared_error\n",
    "\n",
    "import xgboost as xgb\n",
    "import lightgbm as lgb\n",
    "\n",
    "import bisect\n",
    "import itertools\n",
    "from tqdm import tqdm_notebook\n",
    "\n",
    "import warnings\n",
    "warnings.filterwarnings('ignore')\n",
    "pd.set_option('display.float_format', \n",
    "              lambda x: '{:.5f}'.format(x)) #Limiting floats output to 5 decimal points"
   ]
  },
  {
   "cell_type": "code",
   "execution_count": 570,
   "metadata": {},
   "outputs": [],
   "source": [
    "def gauss_like(dframes, fitter):\n",
    "    \n",
    "    '''If shapiro statistic better after power transformation, \n",
    "       apply it to column, else just scale column'''\n",
    "    \n",
    "    num_cols = dframes[0].select_dtypes(include=[np.number]).columns\n",
    "    changed_cols = []\n",
    "    scaled_cols = []\n",
    "    \n",
    "    for col in num_cols:\n",
    "        t = dframes[0][[col]].copy()\n",
    "        shapiro_before = st.shapiro(dframes[0][col])[0]\n",
    "        t = fitter[0].fit_transform(t)\n",
    "        shapiro_after = st.shapiro(t)[0]\n",
    "            \n",
    "        if shapiro_before < shapiro_after:\n",
    "            dframes[0][col] = t\n",
    "            \n",
    "            for df in dframes[1:]:\n",
    "                df[[col]] = fitter[0].transform(df[[col]])\n",
    "                \n",
    "            changed_cols.append(col)\n",
    "                \n",
    "        else:\n",
    "            dframes[0][[col]] = fitter[1].fit_transform(dframes[0][[col]])\n",
    "            \n",
    "            for df in dframes[1:]:\n",
    "                df[[col]] = fitter[1].transform(df[[col]])\n",
    "                \n",
    "            scaled_cols.append(col)\n",
    "    \n",
    "    print('Transformed columns: ')\n",
    "    print(*changed_cols, sep=', ')\n",
    "    print('Scaled columns: ')\n",
    "    print(*scaled_cols, sep=', ')\n",
    "    \n",
    "    return dframes\n",
    "    \n",
    "\n",
    "def rmsle_cv(model, X, y):\n",
    "    \n",
    "    ''' cross_val_score with shuffled data before splitting. \n",
    "        Return Root-Mean-Squared-Error (RMSE) '''\n",
    "    \n",
    "    kf = KFold(n_splits=5, shuffle=True, random_state=42).get_n_splits(X.values)\n",
    "    \n",
    "    rmse = np.sqrt(-cross_val_score(model, \n",
    "                                    X.values, \n",
    "                                    y, \n",
    "                                    scoring='neg_mean_squared_error', \n",
    "                                    cv = kf))\n",
    "    return(rmse)\n",
    "\n",
    "\n",
    "def write_to_submission_file(predicted_labels, out_file,\n",
    "                             target='SalePrice', index_label=\"Id\"):\n",
    "    predicted_df = pd.DataFrame(predicted_labels,\n",
    "                                index=np.arange(1461, predicted_labels.shape[0] + 1461),\n",
    "                                columns=[target])\n",
    "    predicted_df.to_csv(out_file, index_label=index_label)\n",
    "    \n",
    "\n",
    "class AveragingModels(BaseEstimator, RegressorMixin, TransformerMixin):\n",
    "    def __init__(self, models):\n",
    "        self.models = models\n",
    "        \n",
    "    # we define clones of the original models to fit the data in\n",
    "    def fit(self, X, y):\n",
    "        self.models_ = [clone(x) for x in self.models]\n",
    "        \n",
    "        # Train cloned base models\n",
    "        for model in self.models_:\n",
    "            model.fit(X, y)\n",
    "\n",
    "        return self\n",
    "    \n",
    "    #Now we do the predictions for cloned models and average them\n",
    "    def predict(self, X):\n",
    "        predictions = np.column_stack([\n",
    "            model.predict(X) for model in self.models_\n",
    "        ])\n",
    "        return np.mean(predictions, axis=1)   "
   ]
  },
  {
   "cell_type": "code",
   "execution_count": 566,
   "metadata": {},
   "outputs": [],
   "source": [
    "train = pd.read_csv('data/train.csv', index_col='Id')\n",
    "test = pd.read_csv('data/test.csv', index_col='Id')"
   ]
  },
  {
   "cell_type": "code",
   "execution_count": 518,
   "metadata": {
    "scrolled": true
   },
   "outputs": [
    {
     "data": {
      "text/html": [
       "<div>\n",
       "<style scoped>\n",
       "    .dataframe tbody tr th:only-of-type {\n",
       "        vertical-align: middle;\n",
       "    }\n",
       "\n",
       "    .dataframe tbody tr th {\n",
       "        vertical-align: top;\n",
       "    }\n",
       "\n",
       "    .dataframe thead th {\n",
       "        text-align: right;\n",
       "    }\n",
       "</style>\n",
       "<table border=\"1\" class=\"dataframe\">\n",
       "  <thead>\n",
       "    <tr style=\"text-align: right;\">\n",
       "      <th></th>\n",
       "      <th>MSSubClass</th>\n",
       "      <th>MSZoning</th>\n",
       "      <th>LotFrontage</th>\n",
       "      <th>LotArea</th>\n",
       "      <th>Street</th>\n",
       "      <th>Alley</th>\n",
       "      <th>LotShape</th>\n",
       "      <th>LandContour</th>\n",
       "      <th>Utilities</th>\n",
       "      <th>LotConfig</th>\n",
       "      <th>...</th>\n",
       "      <th>PoolArea</th>\n",
       "      <th>PoolQC</th>\n",
       "      <th>Fence</th>\n",
       "      <th>MiscFeature</th>\n",
       "      <th>MiscVal</th>\n",
       "      <th>MoSold</th>\n",
       "      <th>YrSold</th>\n",
       "      <th>SaleType</th>\n",
       "      <th>SaleCondition</th>\n",
       "      <th>SalePrice</th>\n",
       "    </tr>\n",
       "    <tr>\n",
       "      <th>Id</th>\n",
       "      <th></th>\n",
       "      <th></th>\n",
       "      <th></th>\n",
       "      <th></th>\n",
       "      <th></th>\n",
       "      <th></th>\n",
       "      <th></th>\n",
       "      <th></th>\n",
       "      <th></th>\n",
       "      <th></th>\n",
       "      <th></th>\n",
       "      <th></th>\n",
       "      <th></th>\n",
       "      <th></th>\n",
       "      <th></th>\n",
       "      <th></th>\n",
       "      <th></th>\n",
       "      <th></th>\n",
       "      <th></th>\n",
       "      <th></th>\n",
       "      <th></th>\n",
       "    </tr>\n",
       "  </thead>\n",
       "  <tbody>\n",
       "    <tr>\n",
       "      <th>1</th>\n",
       "      <td>60</td>\n",
       "      <td>RL</td>\n",
       "      <td>65.00000</td>\n",
       "      <td>8450</td>\n",
       "      <td>Pave</td>\n",
       "      <td>NaN</td>\n",
       "      <td>Reg</td>\n",
       "      <td>Lvl</td>\n",
       "      <td>AllPub</td>\n",
       "      <td>Inside</td>\n",
       "      <td>...</td>\n",
       "      <td>0</td>\n",
       "      <td>NaN</td>\n",
       "      <td>NaN</td>\n",
       "      <td>NaN</td>\n",
       "      <td>0</td>\n",
       "      <td>2</td>\n",
       "      <td>2008</td>\n",
       "      <td>WD</td>\n",
       "      <td>Normal</td>\n",
       "      <td>208500</td>\n",
       "    </tr>\n",
       "    <tr>\n",
       "      <th>2</th>\n",
       "      <td>20</td>\n",
       "      <td>RL</td>\n",
       "      <td>80.00000</td>\n",
       "      <td>9600</td>\n",
       "      <td>Pave</td>\n",
       "      <td>NaN</td>\n",
       "      <td>Reg</td>\n",
       "      <td>Lvl</td>\n",
       "      <td>AllPub</td>\n",
       "      <td>FR2</td>\n",
       "      <td>...</td>\n",
       "      <td>0</td>\n",
       "      <td>NaN</td>\n",
       "      <td>NaN</td>\n",
       "      <td>NaN</td>\n",
       "      <td>0</td>\n",
       "      <td>5</td>\n",
       "      <td>2007</td>\n",
       "      <td>WD</td>\n",
       "      <td>Normal</td>\n",
       "      <td>181500</td>\n",
       "    </tr>\n",
       "    <tr>\n",
       "      <th>3</th>\n",
       "      <td>60</td>\n",
       "      <td>RL</td>\n",
       "      <td>68.00000</td>\n",
       "      <td>11250</td>\n",
       "      <td>Pave</td>\n",
       "      <td>NaN</td>\n",
       "      <td>IR1</td>\n",
       "      <td>Lvl</td>\n",
       "      <td>AllPub</td>\n",
       "      <td>Inside</td>\n",
       "      <td>...</td>\n",
       "      <td>0</td>\n",
       "      <td>NaN</td>\n",
       "      <td>NaN</td>\n",
       "      <td>NaN</td>\n",
       "      <td>0</td>\n",
       "      <td>9</td>\n",
       "      <td>2008</td>\n",
       "      <td>WD</td>\n",
       "      <td>Normal</td>\n",
       "      <td>223500</td>\n",
       "    </tr>\n",
       "    <tr>\n",
       "      <th>4</th>\n",
       "      <td>70</td>\n",
       "      <td>RL</td>\n",
       "      <td>60.00000</td>\n",
       "      <td>9550</td>\n",
       "      <td>Pave</td>\n",
       "      <td>NaN</td>\n",
       "      <td>IR1</td>\n",
       "      <td>Lvl</td>\n",
       "      <td>AllPub</td>\n",
       "      <td>Corner</td>\n",
       "      <td>...</td>\n",
       "      <td>0</td>\n",
       "      <td>NaN</td>\n",
       "      <td>NaN</td>\n",
       "      <td>NaN</td>\n",
       "      <td>0</td>\n",
       "      <td>2</td>\n",
       "      <td>2006</td>\n",
       "      <td>WD</td>\n",
       "      <td>Abnorml</td>\n",
       "      <td>140000</td>\n",
       "    </tr>\n",
       "    <tr>\n",
       "      <th>5</th>\n",
       "      <td>60</td>\n",
       "      <td>RL</td>\n",
       "      <td>84.00000</td>\n",
       "      <td>14260</td>\n",
       "      <td>Pave</td>\n",
       "      <td>NaN</td>\n",
       "      <td>IR1</td>\n",
       "      <td>Lvl</td>\n",
       "      <td>AllPub</td>\n",
       "      <td>FR2</td>\n",
       "      <td>...</td>\n",
       "      <td>0</td>\n",
       "      <td>NaN</td>\n",
       "      <td>NaN</td>\n",
       "      <td>NaN</td>\n",
       "      <td>0</td>\n",
       "      <td>12</td>\n",
       "      <td>2008</td>\n",
       "      <td>WD</td>\n",
       "      <td>Normal</td>\n",
       "      <td>250000</td>\n",
       "    </tr>\n",
       "  </tbody>\n",
       "</table>\n",
       "<p>5 rows × 80 columns</p>\n",
       "</div>"
      ],
      "text/plain": [
       "    MSSubClass MSZoning  LotFrontage  LotArea Street Alley LotShape  \\\n",
       "Id                                                                    \n",
       "1           60       RL     65.00000     8450   Pave   NaN      Reg   \n",
       "2           20       RL     80.00000     9600   Pave   NaN      Reg   \n",
       "3           60       RL     68.00000    11250   Pave   NaN      IR1   \n",
       "4           70       RL     60.00000     9550   Pave   NaN      IR1   \n",
       "5           60       RL     84.00000    14260   Pave   NaN      IR1   \n",
       "\n",
       "   LandContour Utilities LotConfig    ...     PoolArea PoolQC Fence  \\\n",
       "Id                                    ...                             \n",
       "1          Lvl    AllPub    Inside    ...            0    NaN   NaN   \n",
       "2          Lvl    AllPub       FR2    ...            0    NaN   NaN   \n",
       "3          Lvl    AllPub    Inside    ...            0    NaN   NaN   \n",
       "4          Lvl    AllPub    Corner    ...            0    NaN   NaN   \n",
       "5          Lvl    AllPub       FR2    ...            0    NaN   NaN   \n",
       "\n",
       "   MiscFeature MiscVal MoSold  YrSold  SaleType  SaleCondition  SalePrice  \n",
       "Id                                                                         \n",
       "1          NaN       0      2    2008        WD         Normal     208500  \n",
       "2          NaN       0      5    2007        WD         Normal     181500  \n",
       "3          NaN       0      9    2008        WD         Normal     223500  \n",
       "4          NaN       0      2    2006        WD        Abnorml     140000  \n",
       "5          NaN       0     12    2008        WD         Normal     250000  \n",
       "\n",
       "[5 rows x 80 columns]"
      ]
     },
     "execution_count": 518,
     "metadata": {},
     "output_type": "execute_result"
    }
   ],
   "source": [
    "train.head()"
   ]
  },
  {
   "cell_type": "markdown",
   "metadata": {},
   "source": [
    "## Outliars"
   ]
  },
  {
   "cell_type": "markdown",
   "metadata": {},
   "source": [
    "As written in documentation http://jse.amstat.org/v19n3/decock.pdf:\n",
    "\n",
    "*Potential Pitfalls (Outliers): Although all known errors were corrected in the data, no observations have been removed due to unusual values and all final residential sales from the initial data set are included in the data presented with this article. There are five observations that an instructor may wish to remove from the data set before giving it to students (a plot of SALE PRICE versus GR LIV AREA will quickly indicate these points). Three of them are true outliers (Partial Sales that likely don’t represent actual market values) and two of them are simply unusual sales (very large houses priced relatively appropriately). I would recommend removing any houses with more than 4000 square feet from the data set (which eliminates these five unusual observations) before assigning it to students.*\n",
    "\n",
    "So we can find and delete this outliars."
   ]
  },
  {
   "cell_type": "code",
   "execution_count": 519,
   "metadata": {},
   "outputs": [
    {
     "data": {
      "image/png": "[encoded data removed]",
      "text/plain": [
       "<Figure size 432x288 with 1 Axes>"
      ]
     },
     "metadata": {},
     "output_type": "display_data"
    }
   ],
   "source": [
    "fig, ax = plt.subplots()\n",
    "ax.scatter(x = train['GrLivArea'], y = train['SalePrice'])\n",
    "plt.ylabel('SalePrice', fontsize=13)\n",
    "plt.xlabel('GrLivArea', fontsize=13)\n",
    "plt.show()"
   ]
  },
  {
   "cell_type": "markdown",
   "metadata": {},
   "source": [
    "We add additional condition in order not to delete unusual sales (very large houses priced relatively appropriately). I have compared, and it worked slightly better."
   ]
  },
  {
   "cell_type": "code",
   "execution_count": 520,
   "metadata": {
    "scrolled": true
   },
   "outputs": [
    {
     "data": {
      "image/png": "[encoded data removed]",
      "text/plain": [
       "<Figure size 432x288 with 1 Axes>"
      ]
     },
     "metadata": {},
     "output_type": "display_data"
    }
   ],
   "source": [
    "#Deleting outliers\n",
    "train = train.drop(train[(train['GrLivArea']>4000) & \n",
    "                         (train['SalePrice']<300000)].index)\n",
    "\n",
    "#Check the graphic again\n",
    "fig, ax = plt.subplots()\n",
    "ax.scatter(train['GrLivArea'], train['SalePrice'])\n",
    "plt.ylabel('SalePrice', fontsize=13)\n",
    "plt.xlabel('GrLivArea', fontsize=13)\n",
    "plt.show()"
   ]
  },
  {
   "cell_type": "markdown",
   "metadata": {},
   "source": [
    "Also we delete some outliers in other features. Deleting outliers below slightly improves scores.  "
   ]
  },
  {
   "cell_type": "code",
   "execution_count": 521,
   "metadata": {},
   "outputs": [],
   "source": [
    "train = train.drop(train[(train['LotArea']>100000)].index)\n",
    "train = train.drop(train[(train['MasVnrArea']>1500)].index)\n",
    "train = train.drop(train[(train['EnclosedPorch']>500)].index)"
   ]
  },
  {
   "cell_type": "markdown",
   "metadata": {},
   "source": [
    "## Handling missing values"
   ]
  },
  {
   "cell_type": "code",
   "execution_count": 522,
   "metadata": {},
   "outputs": [
    {
     "data": {
      "text/plain": [
       "79"
      ]
     },
     "execution_count": 522,
     "metadata": {},
     "output_type": "execute_result"
    }
   ],
   "source": [
    "X_train = train.copy()\n",
    "X_test = test.copy()\n",
    "\n",
    "y_train = X_train[['SalePrice']]\n",
    "X_train.drop(['SalePrice'], axis=1, inplace=True)\n",
    "\n",
    "numerical_columns = X_train.select_dtypes(include=[np.number]).columns\n",
    "categorical_columsns = X_train.select_dtypes(include=[np.object]).columns\n",
    "\n",
    "numerical_columns.size + categorical_columsns.size"
   ]
  },
  {
   "cell_type": "markdown",
   "metadata": {},
   "source": [
    "### Categorical features"
   ]
  },
  {
   "cell_type": "code",
   "execution_count": 523,
   "metadata": {},
   "outputs": [],
   "source": [
    "imp_cat = SimpleImputer(missing_values=np.nan, \n",
    "                        strategy='constant', \n",
    "                        fill_value='no' + categorical_columsns)\n",
    "\n",
    "X_train[categorical_columsns] = imp_cat.fit_transform(X_train[categorical_columsns])\n",
    "X_test[categorical_columsns] = imp_cat.transform(X_test[categorical_columsns])"
   ]
  },
  {
   "cell_type": "markdown",
   "metadata": {},
   "source": [
    "### Numerical features"
   ]
  },
  {
   "cell_type": "code",
   "execution_count": 524,
   "metadata": {},
   "outputs": [],
   "source": [
    "imp_num= SimpleImputer(missing_values=np.nan, strategy='mean')\n",
    "\n",
    "X_train[numerical_columns] = imp_num.fit_transform(X_train[numerical_columns])\n",
    "X_test[numerical_columns] = imp_num.transform(X_test[numerical_columns])"
   ]
  },
  {
   "cell_type": "code",
   "execution_count": 525,
   "metadata": {},
   "outputs": [
    {
     "name": "stdout",
     "output_type": "stream",
     "text": [
      "Missing values X_train: 0\n",
      "Missing values X_test: 0\n"
     ]
    }
   ],
   "source": [
    "print('Missing values X_train: ' + \n",
    "      str(X_train.isnull().sum()[X_train.isnull().sum() > 0].size))\n",
    "\n",
    "print('Missing values X_test: ' + \n",
    "      str(X_test.isnull().sum()[X_test.isnull().sum() > 0].size))\n"
   ]
  },
  {
   "cell_type": "markdown",
   "metadata": {},
   "source": [
    "## Transform features"
   ]
  },
  {
   "cell_type": "markdown",
   "metadata": {},
   "source": [
    "Transforming some numerical variables that are really categorical"
   ]
  },
  {
   "cell_type": "code",
   "execution_count": 526,
   "metadata": {},
   "outputs": [],
   "source": [
    "#MSSubClass=The building class\n",
    "X_train['MSSubClass'] = X_train['MSSubClass'].apply(str)\n",
    "X_test['MSSubClass'] = X_test['MSSubClass'].apply(str)\n",
    "\n",
    "#Changing OverallCond into a categorical variable\n",
    "X_train['OverallCond'] = X_train['OverallCond'].astype(str)\n",
    "X_test['OverallCond'] = X_test['OverallCond'].astype(str)\n",
    "\n",
    "#Year and month sold are transformed into categorical features.\n",
    "X_train['YrSold'] = X_train['YrSold'].astype(str)\n",
    "X_test['YrSold'] = X_test['YrSold'].astype(str)\n",
    "\n",
    "X_train['MoSold'] = X_train['MoSold'].astype(str)\n",
    "X_test['MoSold'] = X_test['MoSold'].astype(str)"
   ]
  },
  {
   "cell_type": "markdown",
   "metadata": {},
   "source": [
    "Label Encoding some categorical variables that may contain information in their ordering set"
   ]
  },
  {
   "cell_type": "code",
   "execution_count": 527,
   "metadata": {},
   "outputs": [
    {
     "name": "stdout",
     "output_type": "stream",
     "text": [
      "Shape X_train: (1452, 79)\n",
      "Shape X_test: (1459, 79)\n"
     ]
    }
   ],
   "source": [
    "label_cols = np.array(['FireplaceQu', 'BsmtQual', 'BsmtCond', 'GarageQual', 'GarageCond', \n",
    "        'ExterQual', 'ExterCond','HeatingQC', 'PoolQC', 'KitchenQual', 'BsmtFinType1', \n",
    "        'BsmtFinType2', 'Functional', 'Fence', 'BsmtExposure', 'GarageFinish', 'LandSlope',\n",
    "        'LotShape', 'PavedDrive', 'Street', 'Alley', 'CentralAir', 'MSSubClass', 'OverallCond', \n",
    "        'YrSold', 'MoSold'], dtype=object)\n",
    "\n",
    "# process columns, apply LabelEncoder to categorical features\n",
    "for col in label_cols:\n",
    "    lbl = LabelEncoder() \n",
    "    lbl.fit(X_train[col])\n",
    "    X_test[col] = X_test[col].map(lambda s: '<unknown>' if s not in lbl.classes_ else s)\n",
    "    lbl_classes = lbl.classes_.tolist()\n",
    "    bisect.insort_left(lbl_classes, '<unknown>')\n",
    "    lbl.classes_ = lbl_classes\n",
    "    X_train[col] = lbl.transform(X_train[col])\n",
    "    X_test[col] = lbl.transform(X_test[col])\n",
    "\n",
    "# shape        \n",
    "print('Shape X_train: {}'.format(X_train.shape))\n",
    "print('Shape X_test: {}'.format(X_test.shape))"
   ]
  },
  {
   "cell_type": "markdown",
   "metadata": {},
   "source": [
    "## Feature normalization"
   ]
  },
  {
   "cell_type": "markdown",
   "metadata": {},
   "source": [
    "### Visualizations of target"
   ]
  },
  {
   "cell_type": "markdown",
   "metadata": {},
   "source": [
    "**Skewness and Kurtosis of target**"
   ]
  },
  {
   "cell_type": "code",
   "execution_count": 528,
   "metadata": {},
   "outputs": [
    {
     "name": "stdout",
     "output_type": "stream",
     "text": [
      "Skewness: 1.9\n",
      "Kurtosis: 6.638\n"
     ]
    }
   ],
   "source": [
    "print('Skewness: {:.4}'.format(y_train.skew()[0]))\n",
    "print('Kurtosis: {:.4}'.format(y_train.kurt()[0]))"
   ]
  },
  {
   "cell_type": "code",
   "execution_count": 529,
   "metadata": {},
   "outputs": [
    {
     "data": {
      "text/plain": [
       "(0.8680379986763, 2.6383472955817067e-33)"
      ]
     },
     "execution_count": 529,
     "metadata": {},
     "output_type": "execute_result"
    }
   ],
   "source": [
    "st.shapiro(y_train)"
   ]
  },
  {
   "cell_type": "markdown",
   "metadata": {},
   "source": [
    "**Target distributions**"
   ]
  },
  {
   "cell_type": "code",
   "execution_count": 530,
   "metadata": {
    "scrolled": true
   },
   "outputs": [
    {
     "data": {
      "image/png": "[encoded data removed]",
      "text/plain": [
       "<Figure size 1440x432 with 3 Axes>"
      ]
     },
     "metadata": {},
     "output_type": "display_data"
    }
   ],
   "source": [
    "fig, axes = plt.subplots(nrows=1, ncols=3, figsize=(20, 6))\n",
    "\n",
    "axes[0].set_title('Johnson SU')\n",
    "axes[1].set_title('Normal')\n",
    "axes[2].set_title('Log-normal')\n",
    "sns.distplot(y_train, kde=False, fit=st.johnsonsu, ax=axes[0]);\n",
    "sns.distplot(y_train, kde=False, fit=st.norm, ax=axes[1]);\n",
    "sns.distplot(y_train, kde=False, fit=st.lognorm, ax=axes[2]);"
   ]
  },
  {
   "cell_type": "code",
   "execution_count": 531,
   "metadata": {},
   "outputs": [
    {
     "data": {
      "image/png": "[encoded data removed]",
      "text/plain": [
       "<Figure size 432x288 with 1 Axes>"
      ]
     },
     "metadata": {},
     "output_type": "display_data"
    }
   ],
   "source": [
    "st.probplot(y_train.iloc[:, 0], plot=plt);"
   ]
  },
  {
   "cell_type": "markdown",
   "metadata": {},
   "source": [
    "**Make target normal again**"
   ]
  },
  {
   "cell_type": "code",
   "execution_count": 532,
   "metadata": {
    "scrolled": true
   },
   "outputs": [
    {
     "data": {
      "text/plain": [
       "(0.9909448623657227, 8.315426924809799e-08)"
      ]
     },
     "execution_count": 532,
     "metadata": {},
     "output_type": "execute_result"
    }
   ],
   "source": [
    "# pt_target = PowerTransformer(method='yeo-johnson')\n",
    "# y_train['SalePrice'] = pt_target.fit_transform(y_train)\n",
    "# st.shapiro(y_train)\n",
    "\n",
    "y_train['SalePrice'] = np.log1p(y_train)\n",
    "st.shapiro(y_train)"
   ]
  },
  {
   "cell_type": "code",
   "execution_count": 533,
   "metadata": {},
   "outputs": [
    {
     "data": {
      "image/png": "[encoded data removed]",
      "text/plain": [
       "<Figure size 1440x432 with 2 Axes>"
      ]
     },
     "metadata": {},
     "output_type": "display_data"
    }
   ],
   "source": [
    "fig, axes = plt.subplots(nrows=1, ncols=2, figsize=(20, 6))\n",
    "\n",
    "axes[0].set_title('Distribution of target')\n",
    "sns.distplot(y_train['SalePrice'], kde=False, fit=st.norm, ax=axes[0]);\n",
    "st.probplot(y_train['SalePrice'], plot=axes[1]);"
   ]
  },
  {
   "cell_type": "markdown",
   "metadata": {},
   "source": [
    "### Normalize numeric features"
   ]
  },
  {
   "cell_type": "code",
   "execution_count": 534,
   "metadata": {},
   "outputs": [
    {
     "name": "stdout",
     "output_type": "stream",
     "text": [
      "Transformed columns: \n",
      "MSSubClass, LotFrontage, LotArea, Street, Alley, LandSlope, OverallQual, OverallCond, YearBuilt, YearRemodAdd, MasVnrArea, ExterQual, BsmtQual, BsmtCond, BsmtExposure, BsmtFinType1, BsmtFinType2, BsmtFinSF2, BsmtUnfSF, CentralAir, 1stFlrSF, LowQualFinSF, GrLivArea, BedroomAbvGr, KitchenQual, TotRmsAbvGrd, FireplaceQu, GarageYrBlt, GarageFinish, GarageCars, GarageQual, GarageCond, PavedDrive, OpenPorchSF, 3SsnPorch, ScreenPorch, PoolQC, MiscVal, MoSold\n",
      "Scaled columns: \n",
      "LotShape, ExterCond, BsmtFinSF1, TotalBsmtSF, HeatingQC, 2ndFlrSF, BsmtFullBath, BsmtHalfBath, FullBath, HalfBath, KitchenAbvGr, Functional, Fireplaces, GarageArea, WoodDeckSF, EnclosedPorch, PoolArea, Fence, YrSold\n"
     ]
    }
   ],
   "source": [
    "pt_feat = PowerTransformer(method='yeo-johnson')\n",
    "scaler = StandardScaler()\n",
    "robust = RobustScaler()\n",
    "frame_list = gauss_like([X_train, X_test], [pt_feat, scaler])\n",
    "X_train, X_test = frame_list[0], frame_list[1]"
   ]
  },
  {
   "cell_type": "markdown",
   "metadata": {},
   "source": [
    "## Encoding categorical data"
   ]
  },
  {
   "cell_type": "code",
   "execution_count": 535,
   "metadata": {},
   "outputs": [],
   "source": [
    "onehot_encoder = OneHotEncoder(handle_unknown='ignore', sparse=False)\n",
    "\n",
    "X_train = pd.concat([X_train[numerical_columns], \n",
    "                     pd.DataFrame(onehot_encoder.\n",
    "                                  fit_transform(X_train[categorical_columsns]), \n",
    "                                  index=X_train.index)], \n",
    "                    axis=1)\n",
    "\n",
    "X_test = pd.concat([X_test[numerical_columns], \n",
    "                     pd.DataFrame(onehot_encoder.\n",
    "                                  transform(X_test[categorical_columsns]), \n",
    "                                  index=X_test.index)], \n",
    "                    axis=1)"
   ]
  },
  {
   "cell_type": "markdown",
   "metadata": {},
   "source": [
    "**Save to CSV:**"
   ]
  },
  {
   "cell_type": "code",
   "execution_count": 536,
   "metadata": {},
   "outputs": [],
   "source": [
    "pd.concat([X_train, y_train], axis=1).to_csv('data/X_train.csv')\n",
    "X_test.to_csv('data/X_test.csv')"
   ]
  },
  {
   "cell_type": "markdown",
   "metadata": {},
   "source": [
    "### **We will use parametrs below to tune features and compare results:**"
   ]
  },
  {
   "cell_type": "markdown",
   "metadata": {},
   "source": [
    "As starting parameters we will use the parameters found after the initial parameter search in kernel 03"
   ]
  },
  {
   "cell_type": "markdown",
   "metadata": {},
   "source": [
    "Save it as markdown to avoid accidentally erasing"
   ]
  },
  {
   "cell_type": "markdown",
   "metadata": {},
   "source": [
    "**Lasso:**  \n",
    "score: 0.1089\n",
    "alpha=0.0006\n",
    "\n",
    "**Ridge:**  \n",
    "score: 0.1119\n",
    "alpha=18.987\n",
    "\n",
    "**Elastic:**   \n",
    "score: 0.1092\n",
    "l1_ratio=0.6414, alpha=0.001  \n",
    "\n",
    "**Kernel Ridge:**  \n",
    "score: 0.1109  \n",
    "alpha=1.4142, coef0=3, degree=3, kernel='polynomial'\n",
    "\n",
    "**Gradient Boosting Regression:**  \n",
    "Score 0.131  \n",
    "alpha=0.9, learning_rate=0.045, loss=huber, max_depth=18, max_features=0.4, min_samples_leaf=8, min_samples_split=4, n_estimators=100, subsample=0.6} \n",
    "\n",
    "**XGB tree:**  \n",
    "Score 0.11873355586847814  \n",
    "alpha=0.1, booster=gbtree, colsample_bylevel=0.6, colsample_bynode=0.15, colsample_bytree=0.55, eval_metric='rmse', gamma=0.0, learning_rate=0.095, max_depth=2, min_child_weight=0.2, nthread=-1, num_round=500, objective='reg:linear', reg_lambda=0.85, seed=42, silent=1, subsample=0.8}\n",
    "\t\n",
    "\n",
    "**XGB linear:**  \n",
    "score:0.2053561935947925  \n",
    "alpha=0.1, booster='gblinear', eval_metric='rmse', feature_selector='cyclic', nthread=-1, num_round=500, objective='reg:linear', reg_lambda=0.1, seed=42, silent=1 \n",
    "\n",
    "**LightGBM:**  \n",
    "score: 0.11957940856119287  \n",
    "bagging_freq=6, bagging_seed=42, boosting='gbdt', feature_fraction=0.65, feature_fraction_seed=42, lambda_l1=0.1, lambda_l2=0.1, learning_rate=0.28, max_bin=260, max_depth=3, metric='rmse', min_data_in_leaf=2, min_sum_hessian_in_leaf=1, nthread=4, num_leaves=2, num_round=500, objective='huber', seed=42, subsample=0.75  "
   ]
  },
  {
   "cell_type": "markdown",
   "metadata": {},
   "source": [
    "# Modelling"
   ]
  },
  {
   "cell_type": "markdown",
   "metadata": {},
   "source": [
    "We use modified cross_val_score with suffled data before splitting."
   ]
  },
  {
   "cell_type": "markdown",
   "metadata": {},
   "source": [
    "## Base models"
   ]
  },
  {
   "cell_type": "markdown",
   "metadata": {},
   "source": [
    "### Lasso Regression:"
   ]
  },
  {
   "cell_type": "code",
   "execution_count": 537,
   "metadata": {},
   "outputs": [],
   "source": [
    "model_lasso = make_pipeline(RobustScaler(), Lasso(alpha=0.0006, \n",
    "                                            random_state=42))"
   ]
  },
  {
   "cell_type": "markdown",
   "metadata": {},
   "source": [
    "### Ridge Regression:"
   ]
  },
  {
   "cell_type": "code",
   "execution_count": 538,
   "metadata": {},
   "outputs": [],
   "source": [
    "model_ridge = make_pipeline(RobustScaler(), Ridge(alpha=18.987, \n",
    "                                            random_state=42))"
   ]
  },
  {
   "cell_type": "markdown",
   "metadata": {},
   "source": [
    "### Elastic Net Regression:"
   ]
  },
  {
   "cell_type": "code",
   "execution_count": 539,
   "metadata": {},
   "outputs": [],
   "source": [
    "model_ENet = make_pipeline(RobustScaler(), ElasticNet(l1_ratio=0.6414, \n",
    "                                                      alpha=0.001, \n",
    "                                                      random_state=42))"
   ]
  },
  {
   "cell_type": "markdown",
   "metadata": {},
   "source": [
    "### Kernel Ridge Regression:"
   ]
  },
  {
   "cell_type": "code",
   "execution_count": 540,
   "metadata": {},
   "outputs": [],
   "source": [
    "model_KRR = KernelRidge(alpha=1.4142, \n",
    "                        coef0=3, \n",
    "                        degree=3, \n",
    "                        kernel='polynomial')"
   ]
  },
  {
   "cell_type": "markdown",
   "metadata": {},
   "source": [
    "### Gradient Boosting Regression:"
   ]
  },
  {
   "cell_type": "markdown",
   "metadata": {},
   "source": [
    "With huber loss that makes it robust to outliers"
   ]
  },
  {
   "cell_type": "code",
   "execution_count": 541,
   "metadata": {},
   "outputs": [],
   "source": [
    "model_GBoost = GradientBoostingRegressor(n_estimators=100, \n",
    "                                         alpha=0.9, \n",
    "                                         learning_rate=0.045, \n",
    "                                         loss='huber', \n",
    "                                         max_depth=18, \n",
    "                                         max_features=0.4, \n",
    "                                         min_samples_leaf=8, \n",
    "                                         min_samples_split=4, \n",
    "                                         subsample=0.6, \n",
    "                                         n_iter_no_change=100)"
   ]
  },
  {
   "cell_type": "markdown",
   "metadata": {},
   "source": [
    "### XGBoost tree:"
   ]
  },
  {
   "cell_type": "code",
   "execution_count": 542,
   "metadata": {},
   "outputs": [],
   "source": [
    "model_xgb = xgb.XGBRegressor(n_estimators=100, \n",
    "                             alpha=0.1, \n",
    "                             booster='gbtree', \n",
    "                             colsample_bylevel=0.6, \n",
    "                             colsample_bynode=0.15, \n",
    "                             colsample_bytree=0.55, \n",
    "                             eval_metric='rmse', \n",
    "                             gamma=0.0, \n",
    "                             learning_rate=0.095, \n",
    "                             max_depth=2, \n",
    "                             min_child_weight=0.2, \n",
    "                             nthread=-1, \n",
    "                             num_round=500, \n",
    "                             objective='reg:linear', \n",
    "                             reg_lambda=0.85, \n",
    "                             seed=42, \n",
    "                             silent=1, \n",
    "                             subsample=0.8)"
   ]
  },
  {
   "cell_type": "markdown",
   "metadata": {},
   "source": [
    "### XGBoost linear:"
   ]
  },
  {
   "cell_type": "code",
   "execution_count": 543,
   "metadata": {},
   "outputs": [],
   "source": [
    "model_xgb_linear = xgb.XGBRegressor(n_estimators=100, \n",
    "                                    alpha=0.1, \n",
    "                                    booster='gblinear', \n",
    "                                    eval_metric='rmse', \n",
    "                                    feature_selector='cyclic', \n",
    "                                    nthread=-1, \n",
    "                                    num_round=500, \n",
    "                                    objective='reg:linear', \n",
    "                                    reg_lambda=0.1, \n",
    "                                    seed=42, \n",
    "                                    silent=1)"
   ]
  },
  {
   "cell_type": "markdown",
   "metadata": {},
   "source": [
    "### LightGBM:"
   ]
  },
  {
   "cell_type": "code",
   "execution_count": 544,
   "metadata": {},
   "outputs": [],
   "source": [
    "model_lgb = lgb.LGBMRegressor(n_estimators=100, \n",
    "                              bagging_freq=6, \n",
    "                              bagging_seed=42, \n",
    "                              boosting='gbdt', \n",
    "                              feature_fraction=0.65, \n",
    "                              feature_fraction_seed=42, \n",
    "                              lambda_l1=0.1, \n",
    "                              lambda_l2=0.1, \n",
    "                              learning_rate=0.28, \n",
    "                              max_bin=260, \n",
    "                              max_depth=3, \n",
    "                              metric='rmse', \n",
    "                              min_data_in_leaf=2, \n",
    "                              min_sum_hessian_in_leaf=1, \n",
    "                              nthread=4, \n",
    "                              num_leaves=2, \n",
    "                              num_round=500, \n",
    "                              objective='huber', \n",
    "                              seed=42, \n",
    "                              subsample=0.75)"
   ]
  },
  {
   "cell_type": "markdown",
   "metadata": {},
   "source": [
    "**Create dict with scores**"
   ]
  },
  {
   "cell_type": "code",
   "execution_count": 545,
   "metadata": {},
   "outputs": [],
   "source": [
    "# scores = {'Lasso': np.array(0), \n",
    "#           'Ridge': np.array(0), \n",
    "#           'ElasticNet': np.array(0), \n",
    "#           'Kernel Ridge': np.array(0), \n",
    "#           'Gradient Boosting': np.array(0), \n",
    "#           'Xgboost': np.array(0), \n",
    "#           'Xgboost linear': np.array(0),\n",
    "#           'LGBM': np.array(0)}"
   ]
  },
  {
   "cell_type": "markdown",
   "metadata": {},
   "source": [
    "### Base models scores"
   ]
  },
  {
   "cell_type": "code",
   "execution_count": 546,
   "metadata": {},
   "outputs": [
    {
     "name": "stdout",
     "output_type": "stream",
     "text": [
      "\n",
      "Lasso previous score: 0.2836 (0.0165)\n",
      "Lasso actual score:   0.1091 (0.0060)\n",
      "\n"
     ]
    }
   ],
   "source": [
    "print(\"\\nLasso previous score: {:.4f} ({:.4f})\".format(scores['Lasso'].mean(), \n",
    "                                                       scores['Lasso'].std()))\n",
    "\n",
    "scores['Lasso'] = rmsle_cv(model_lasso, X_train, y_train)\n",
    "\n",
    "print(\"Lasso actual score:   {:.4f} ({:.4f})\\n\".format(scores['Lasso'].mean(), \n",
    "                                                       scores['Lasso'].std()))"
   ]
  },
  {
   "cell_type": "code",
   "execution_count": 547,
   "metadata": {},
   "outputs": [
    {
     "name": "stdout",
     "output_type": "stream",
     "text": [
      "\n",
      "Ridge previous score: 0.2859 (0.0143)\n",
      "Ridge actual score:   0.1118 (0.0060)\n",
      "\n"
     ]
    }
   ],
   "source": [
    "print(\"\\nRidge previous score: {:.4f} ({:.4f})\".format(scores['Ridge'].mean(), \n",
    "                                                       scores['Ridge'].std()))\n",
    "\n",
    "scores['Ridge'] = rmsle_cv(model_ridge, X_train, y_train)\n",
    "\n",
    "print(\"Ridge actual score:   {:.4f} ({:.4f})\\n\".format(scores['Ridge'].mean(), \n",
    "                                                       scores['Ridge'].std()))"
   ]
  },
  {
   "cell_type": "code",
   "execution_count": 548,
   "metadata": {},
   "outputs": [
    {
     "name": "stdout",
     "output_type": "stream",
     "text": [
      "\n",
      "ElasticNet previous score: 0.2824 (0.0164)\n",
      "ElasticNet actual score:   0.1092 (0.0061)\n",
      "\n"
     ]
    }
   ],
   "source": [
    "print(\"\\nElasticNet previous score: {:.4f} ({:.4f})\".format(scores['ElasticNet'].mean(), \n",
    "                                                            scores['ElasticNet'].std()))\n",
    "\n",
    "scores['ElasticNet'] = rmsle_cv(model_ENet, X_train, y_train)\n",
    "\n",
    "print(\"ElasticNet actual score:   {:.4f} ({:.4f})\\n\".format(scores['ElasticNet'].mean(), \n",
    "                                                            scores['ElasticNet'].std()))\n"
   ]
  },
  {
   "cell_type": "code",
   "execution_count": 549,
   "metadata": {},
   "outputs": [
    {
     "name": "stdout",
     "output_type": "stream",
     "text": [
      "\n",
      "Kernel Ridge previous score: 0.2809 (0.0152)\n",
      "Kernel Ridge actual score:   0.1100 (0.0064)\n",
      "\n"
     ]
    }
   ],
   "source": [
    "print(\"\\nKernel Ridge previous score: {:.4f} ({:.4f})\".format(scores['Kernel Ridge'].mean(), \n",
    "                                                              scores['Kernel Ridge'].std()))\n",
    "scores['Kernel Ridge'] = rmsle_cv(model_KRR, X_train, y_train)\n",
    "\n",
    "print(\"Kernel Ridge actual score:   {:.4f} ({:.4f})\\n\".format(scores['Kernel Ridge'].mean(), \n",
    "                                                              scores['Kernel Ridge'].std()))"
   ]
  },
  {
   "cell_type": "code",
   "execution_count": 550,
   "metadata": {},
   "outputs": [
    {
     "name": "stdout",
     "output_type": "stream",
     "text": [
      "\n",
      "Gradient Boosting previous score: 0.3140 (0.0246)\n",
      "Gradient Boosting actual score:   0.1238 (0.0085)\n",
      "\n",
      "CPU times: user 11.8 s, sys: 70 ms, total: 11.9 s\n",
      "Wall time: 11.8 s\n"
     ]
    }
   ],
   "source": [
    "%%time\n",
    "print(\"\\nGradient Boosting previous score: {:.4f} ({:.4f})\".format(scores['Gradient Boosting'].mean(), \n",
    "                                                                   scores['Gradient Boosting'].std()))\n",
    "\n",
    "scores['Gradient Boosting'] = rmsle_cv(model_GBoost, X_train, y_train)\n",
    "\n",
    "print(\"Gradient Boosting actual score:   {:.4f} ({:.4f})\\n\".format(scores['Gradient Boosting'].mean(), scores['Gradient Boosting'].std()))"
   ]
  },
  {
   "cell_type": "code",
   "execution_count": 551,
   "metadata": {},
   "outputs": [
    {
     "name": "stdout",
     "output_type": "stream",
     "text": [
      "\n",
      "Xgboost previous score: 0.3132 (0.0165)\n",
      "Xgboost actual score:   0.1251 (0.0072)\n",
      "\n",
      "CPU times: user 4.27 s, sys: 70 ms, total: 4.34 s\n",
      "Wall time: 1.18 s\n"
     ]
    }
   ],
   "source": [
    "%%time\n",
    "print(\"\\nXgboost previous score: {:.4f} ({:.4f})\".format(scores['Xgboost'].mean(), \n",
    "                                                         scores['Xgboost'].std()))\n",
    "\n",
    "scores['Xgboost'] = rmsle_cv(model_xgb, X_train, y_train)\n",
    "\n",
    "print(\"Xgboost actual score:   {:.4f} ({:.4f})\\n\".format(scores['Xgboost'].mean(), \n",
    "                                                         scores['Xgboost'].std()))"
   ]
  },
  {
   "cell_type": "code",
   "execution_count": 552,
   "metadata": {},
   "outputs": [
    {
     "name": "stdout",
     "output_type": "stream",
     "text": [
      "\n",
      "Xgboost linear previous score: 0.2951 (0.0129)\n",
      "Xgboost linear actual score:   0.3198 (0.0204)\n",
      "\n",
      "CPU times: user 7.8 s, sys: 10 ms, total: 7.81 s\n",
      "Wall time: 2.09 s\n"
     ]
    }
   ],
   "source": [
    "%%time\n",
    "print(\"\\nXgboost linear previous score: {:.4f} ({:.4f})\".format(scores['Xgboost linear'].mean(), \n",
    "                                                                scores['Xgboost linear'].std()))\n",
    "\n",
    "scores['Xgboost linear'] = rmsle_cv(model_xgb_linear, X_train, y_train)\n",
    "\n",
    "print(\"Xgboost linear actual score:   {:.4f} ({:.4f})\\n\".format(scores['Xgboost linear'].mean(), \n",
    "                                                                scores['Xgboost linear'].std()))"
   ]
  },
  {
   "cell_type": "code",
   "execution_count": 553,
   "metadata": {},
   "outputs": [
    {
     "name": "stdout",
     "output_type": "stream",
     "text": [
      "\n",
      "LGBM previous score: 0.3048 (0.0121)\n",
      "LGBM actual score:   0.1199 (0.0068)\n",
      "\n",
      "CPU times: user 2.99 s, sys: 60 ms, total: 3.05 s\n",
      "Wall time: 883 ms\n"
     ]
    }
   ],
   "source": [
    "%%time\n",
    "print(\"\\nLGBM previous score: {:.4f} ({:.4f})\".format(scores['LGBM'].mean(), \n",
    "                                                      scores['LGBM'].std()))\n",
    "\n",
    "scores['LGBM'] = rmsle_cv(model_lgb, X_train, y_train)\n",
    "\n",
    "print(\"LGBM actual score:   {:.4f} ({:.4f})\\n\".format(scores['LGBM'].mean(), \n",
    "                                                      scores['LGBM'].std()))"
   ]
  },
  {
   "cell_type": "markdown",
   "metadata": {},
   "source": [
    "## Averaging models"
   ]
  },
  {
   "cell_type": "code",
   "execution_count": 572,
   "metadata": {},
   "outputs": [
    {
     "name": "stdout",
     "output_type": "stream",
     "text": [
      " Averaged base models score: 0.1143 (0.0065)\n",
      "\n"
     ]
    }
   ],
   "source": [
    "averaged_models = AveragingModels(models = (model_lasso, model_ridge, model_ENet, \n",
    "                                            model_KRR, model_GBoost, model_xgb, \n",
    "                                            model_xgb_linear, model_lgb))\n",
    "\n",
    "score = rmsle_cv(averaged_models, X_train, y_train)\n",
    "print(\" Averaged base models score: {:.4f} ({:.4f})\\n\".format(score.mean(), score.std()))"
   ]
  },
  {
   "cell_type": "code",
   "execution_count": 621,
   "metadata": {},
   "outputs": [
    {
     "ename": "SyntaxError",
     "evalue": "can't use starred expression here (<ipython-input-621-6c75e965281c>, line 6)",
     "output_type": "error",
     "traceback": [
      "\u001b[0;36m  File \u001b[0;32m\"<ipython-input-621-6c75e965281c>\"\u001b[0;36m, line \u001b[0;32m6\u001b[0m\n\u001b[0;31m    subset = *(subset[0], subset[1])\u001b[0m\n\u001b[0m            ^\u001b[0m\n\u001b[0;31mSyntaxError\u001b[0m\u001b[0;31m:\u001b[0m can't use starred expression here\n"
     ]
    }
   ],
   "source": [
    "\n",
    "stuff = ['model_lasso', 'model_ridge', 'model_ENet', 'model_KRR', 'model_GBoost', 'model_xgb', 'model_xgb_linear', 'model_lgb']\n",
    "\n",
    "for L in range(2, len(stuff)+1):\n",
    "    for subset in itertools.combinations(stuff, L):\n",
    "        subset = (subset[0], subset[1])\n",
    "        print(subset)"
   ]
  },
  {
   "cell_type": "code",
   "execution_count": 669,
   "metadata": {},
   "outputs": [
    {
     "name": "stdout",
     "output_type": "stream",
     "text": [
      "Averaged base models score: 0.1100 (0.0060)\n",
      "\n",
      "Averaged base models score: 0.1092 (0.0060)\n",
      "\n",
      "Averaged base models score: 0.1086 (0.0063)\n",
      "\n",
      "Averaged base models score: 0.1111 (0.0071)\n",
      "\n",
      "Averaged base models score: 0.1115 (0.0067)\n",
      "\n",
      "Averaged base models score: 0.1832 (0.0105)\n",
      "\n",
      "Averaged base models score: 0.1106 (0.0066)\n",
      "\n",
      "Averaged base models score: 0.1100 (0.0060)\n",
      "\n",
      "Averaged base models score: 0.1104 (0.0062)\n",
      "\n",
      "Averaged base models score: 0.1124 (0.0061)\n",
      "\n",
      "Averaged base models score: 0.1126 (0.0064)\n",
      "\n",
      "Averaged base models score: 0.1849 (0.0098)\n",
      "\n",
      "Averaged base models score: 0.1117 (0.0066)\n",
      "\n",
      "Averaged base models score: 0.1087 (0.0063)\n",
      "\n",
      "Averaged base models score: 0.1112 (0.0064)\n",
      "\n",
      "Averaged base models score: 0.1117 (0.0067)\n",
      "\n",
      "Averaged base models score: 0.1844 (0.0113)\n",
      "\n",
      "Averaged base models score: 0.1106 (0.0066)\n",
      "\n",
      "Averaged base models score: 0.1116 (0.0059)\n",
      "\n",
      "Averaged base models score: 0.1112 (0.0066)\n",
      "\n",
      "Averaged base models score: 0.1872 (0.0094)\n",
      "\n",
      "Averaged base models score: 0.1107 (0.0069)\n",
      "\n",
      "Averaged base models score: 0.1215 (0.0080)\n",
      "\n",
      "Averaged base models score: 0.1835 (0.0068)\n",
      "\n",
      "Averaged base models score: 0.1150 (0.0074)\n",
      "\n",
      "Averaged base models score: 0.1850 (0.0096)\n",
      "\n",
      "Averaged base models score: 0.1170 (0.0072)\n",
      "\n",
      "Averaged base models score: 0.1869 (0.0104)\n",
      "\n",
      "Averaged base models score: 0.1096 (0.0061)\n",
      "\n",
      "Averaged base models score: 0.1094 (0.0062)\n",
      "\n",
      "Averaged base models score: 0.1097 (0.0063)\n",
      "\n",
      "Averaged base models score: 0.1099 (0.0063)\n",
      "\n",
      "Averaged base models score: 0.1471 (0.0087)\n",
      "\n",
      "Averaged base models score: 0.1098 (0.0065)\n",
      "\n",
      "Averaged base models score: 0.1086 (0.0062)\n",
      "\n",
      "Averaged base models score: 0.1087 (0.0066)\n",
      "\n",
      "Averaged base models score: 0.1095 (0.0064)\n",
      "\n",
      "Averaged base models score: 0.1461 (0.0082)\n",
      "\n",
      "Averaged base models score: 0.1092 (0.0064)\n",
      "\n",
      "Averaged base models score: 0.1085 (0.0072)\n",
      "\n",
      "Averaged base models score: 0.1089 (0.0064)\n",
      "\n",
      "Averaged base models score: 0.1470 (0.0085)\n",
      "\n",
      "Averaged base models score: 0.1089 (0.0066)\n",
      "\n",
      "Averaged base models score: 0.1127 (0.0070)\n",
      "\n",
      "Averaged base models score: 0.1455 (0.0069)\n",
      "\n",
      "Averaged base models score: 0.1096 (0.0067)\n",
      "\n",
      "Averaged base models score: 0.1464 (0.0074)\n",
      "\n",
      "Averaged base models score: 0.1113 (0.0068)\n",
      "\n",
      "Averaged base models score: 0.1458 (0.0080)\n",
      "\n",
      "Averaged base models score: 0.1095 (0.0062)\n",
      "\n",
      "Averaged base models score: 0.1093 (0.0062)\n",
      "\n",
      "Averaged base models score: 0.1100 (0.0063)\n",
      "\n",
      "Averaged base models score: 0.1478 (0.0083)\n",
      "\n",
      "Averaged base models score: 0.1098 (0.0065)\n",
      "\n",
      "Averaged base models score: 0.1097 (0.0062)\n",
      "\n",
      "Averaged base models score: 0.1099 (0.0063)\n",
      "\n",
      "Averaged base models score: 0.1489 (0.0075)\n",
      "\n",
      "Averaged base models score: 0.1099 (0.0066)\n",
      "\n",
      "Averaged base models score: 0.1137 (0.0067)\n",
      "\n",
      "Averaged base models score: 0.1468 (0.0066)\n",
      "\n",
      "Averaged base models score: 0.1111 (0.0071)\n",
      "\n",
      "Averaged base models score: 0.1477 (0.0077)\n",
      "\n",
      "Averaged base models score: 0.1120 (0.0067)\n",
      "\n",
      "Averaged base models score: 0.1475 (0.0081)\n",
      "\n",
      "Averaged base models score: 0.1086 (0.0066)\n",
      "\n",
      "Averaged base models score: 0.1090 (0.0064)\n",
      "\n",
      "Averaged base models score: 0.1480 (0.0079)\n",
      "\n",
      "Averaged base models score: 0.1089 (0.0066)\n",
      "\n",
      "Averaged base models score: 0.1125 (0.0068)\n",
      "\n",
      "Averaged base models score: 0.1466 (0.0073)\n",
      "\n",
      "Averaged base models score: 0.1098 (0.0070)\n",
      "\n",
      "Averaged base models score: 0.1470 (0.0078)\n",
      "\n",
      "Averaged base models score: 0.1114 (0.0068)\n",
      "\n",
      "Averaged base models score: 0.1479 (0.0088)\n",
      "\n",
      "Averaged base models score: 0.1125 (0.0067)\n",
      "\n",
      "Averaged base models score: 0.1473 (0.0072)\n",
      "\n",
      "Averaged base models score: 0.1099 (0.0066)\n",
      "\n",
      "Averaged base models score: 0.1489 (0.0078)\n",
      "\n",
      "Averaged base models score: 0.1111 (0.0068)\n",
      "\n",
      "Averaged base models score: 0.1467 (0.0082)\n",
      "\n",
      "Averaged base models score: 0.1486 (0.0078)\n",
      "\n",
      "Averaged base models score: 0.1160 (0.0081)\n",
      "\n",
      "Averaged base models score: 0.1473 (0.0077)\n",
      "\n",
      "Averaged base models score: 0.1486 (0.0080)\n",
      "\n",
      "Averaged base models score: 0.1092 (0.0062)\n",
      "\n",
      "Averaged base models score: 0.1092 (0.0059)\n",
      "\n",
      "Averaged base models score: 0.1092 (0.0062)\n",
      "\n",
      "Averaged base models score: 0.1324 (0.0078)\n",
      "\n",
      "Averaged base models score: 0.1092 (0.0064)\n",
      "\n",
      "Averaged base models score: 0.1086 (0.0062)\n",
      "\n",
      "Averaged base models score: 0.1089 (0.0063)\n",
      "\n",
      "Averaged base models score: 0.1333 (0.0080)\n",
      "\n",
      "Averaged base models score: 0.1091 (0.0065)\n",
      "\n",
      "Averaged base models score: 0.1105 (0.0067)\n",
      "\n",
      "Averaged base models score: 0.1309 (0.0066)\n",
      "\n",
      "Averaged base models score: 0.1096 (0.0064)\n",
      "\n",
      "Averaged base models score: 0.1316 (0.0073)\n",
      "\n",
      "Averaged base models score: 0.1100 (0.0066)\n",
      "\n",
      "Averaged base models score: 0.1323 (0.0078)\n",
      "\n",
      "Averaged base models score: 0.1077 (0.0062)\n",
      "\n",
      "Averaged base models score: 0.1084 (0.0063)\n",
      "\n",
      "Averaged base models score: 0.1327 (0.0078)\n",
      "\n",
      "Averaged base models score: 0.1085 (0.0065)\n",
      "\n",
      "Averaged base models score: 0.1098 (0.0067)\n",
      "\n",
      "Averaged base models score: 0.1302 (0.0070)\n",
      "\n",
      "Averaged base models score: 0.1085 (0.0068)\n",
      "\n",
      "Averaged base models score: 0.1311 (0.0072)\n",
      "\n",
      "Averaged base models score: 0.1096 (0.0066)\n",
      "\n",
      "Averaged base models score: 0.1313 (0.0076)\n",
      "\n",
      "Averaged base models score: 0.1102 (0.0068)\n",
      "\n",
      "Averaged base models score: 0.1309 (0.0075)\n",
      "\n",
      "Averaged base models score: 0.1084 (0.0069)\n",
      "\n",
      "Averaged base models score: 0.1320 (0.0072)\n",
      "\n",
      "Averaged base models score: 0.1093 (0.0067)\n",
      "\n",
      "Averaged base models score: 0.1323 (0.0077)\n",
      "\n",
      "Averaged base models score: 0.1317 (0.0071)\n",
      "\n",
      "Averaged base models score: 0.1114 (0.0071)\n",
      "\n",
      "Averaged base models score: 0.1311 (0.0071)\n",
      "\n",
      "Averaged base models score: 0.1319 (0.0074)\n",
      "\n",
      "Averaged base models score: 0.1085 (0.0061)\n",
      "\n",
      "Averaged base models score: 0.1090 (0.0062)\n",
      "\n",
      "Averaged base models score: 0.1331 (0.0077)\n",
      "\n",
      "Averaged base models score: 0.1091 (0.0065)\n",
      "\n",
      "Averaged base models score: 0.1110 (0.0067)\n",
      "\n",
      "Averaged base models score: 0.1307 (0.0067)\n",
      "\n",
      "Averaged base models score: 0.1091 (0.0063)\n",
      "\n",
      "Averaged base models score: 0.1315 (0.0070)\n",
      "\n",
      "Averaged base models score: 0.1101 (0.0065)\n",
      "\n",
      "Averaged base models score: 0.1321 (0.0078)\n",
      "\n",
      "Averaged base models score: 0.1109 (0.0064)\n",
      "\n",
      "Averaged base models score: 0.1325 (0.0068)\n",
      "\n",
      "Averaged base models score: 0.1092 (0.0065)\n",
      "\n",
      "Averaged base models score: 0.1322 (0.0079)\n",
      "\n",
      "Averaged base models score: 0.1100 (0.0066)\n",
      "\n",
      "Averaged base models score: 0.1329 (0.0077)\n",
      "\n",
      "Averaged base models score: 0.1316 (0.0064)\n",
      "\n",
      "Averaged base models score: 0.1122 (0.0070)\n",
      "\n",
      "Averaged base models score: 0.1314 (0.0071)\n",
      "\n",
      "Averaged base models score: 0.1323 (0.0072)\n",
      "\n",
      "Averaged base models score: 0.1097 (0.0071)\n",
      "\n",
      "Averaged base models score: 0.1308 (0.0073)\n",
      "\n",
      "Averaged base models score: 0.1085 (0.0067)\n",
      "\n",
      "Averaged base models score: 0.1320 (0.0072)\n",
      "\n",
      "Averaged base models score: 0.1093 (0.0067)\n",
      "\n",
      "Averaged base models score: 0.1320 (0.0086)\n",
      "\n",
      "Averaged base models score: 0.1316 (0.0068)\n",
      "\n",
      "Averaged base models score: 0.1115 (0.0069)\n",
      "\n",
      "Averaged base models score: 0.1313 (0.0067)\n",
      "\n",
      "Averaged base models score: 0.1320 (0.0074)\n",
      "\n",
      "Averaged base models score: 0.1326 (0.0068)\n",
      "\n",
      "Averaged base models score: 0.1115 (0.0068)\n",
      "\n",
      "Averaged base models score: 0.1322 (0.0074)\n",
      "\n",
      "Averaged base models score: 0.1326 (0.0072)\n",
      "\n",
      "Averaged base models score: 0.1330 (0.0073)\n",
      "\n",
      "Averaged base models score: 0.1083 (0.0064)\n",
      "\n",
      "Averaged base models score: 0.1087 (0.0062)\n",
      "\n",
      "Averaged base models score: 0.1240 (0.0073)\n",
      "\n",
      "Averaged base models score: 0.1088 (0.0064)\n",
      "\n",
      "Averaged base models score: 0.1093 (0.0064)\n",
      "\n",
      "Averaged base models score: 0.1227 (0.0066)\n",
      "\n",
      "Averaged base models score: 0.1087 (0.0063)\n",
      "\n",
      "Averaged base models score: 0.1234 (0.0069)\n",
      "\n",
      "Averaged base models score: 0.1092 (0.0064)\n",
      "\n",
      "Averaged base models score: 0.1241 (0.0073)\n",
      "\n",
      "Averaged base models score: 0.1090 (0.0067)\n",
      "\n",
      "Averaged base models score: 0.1237 (0.0066)\n",
      "\n",
      "Averaged base models score: 0.1085 (0.0063)\n",
      "\n",
      "Averaged base models score: 0.1242 (0.0070)\n",
      "\n",
      "Averaged base models score: 0.1091 (0.0065)\n",
      "\n",
      "Averaged base models score: 0.1242 (0.0079)\n",
      "\n",
      "Averaged base models score: 0.1233 (0.0068)\n",
      "\n",
      "Averaged base models score: 0.1101 (0.0066)\n",
      "\n",
      "Averaged base models score: 0.1231 (0.0065)\n",
      "\n",
      "Averaged base models score: 0.1239 (0.0070)\n",
      "\n",
      "Averaged base models score: 0.1089 (0.0066)\n",
      "\n",
      "Averaged base models score: 0.1229 (0.0065)\n",
      "\n",
      "Averaged base models score: 0.1082 (0.0067)\n",
      "\n",
      "Averaged base models score: 0.1237 (0.0070)\n",
      "\n",
      "Averaged base models score: 0.1086 (0.0065)\n",
      "\n",
      "Averaged base models score: 0.1238 (0.0072)\n",
      "\n",
      "Averaged base models score: 0.1232 (0.0066)\n",
      "\n",
      "Averaged base models score: 0.1098 (0.0068)\n",
      "\n",
      "Averaged base models score: 0.1226 (0.0071)\n",
      "\n"
     ]
    },
    {
     "name": "stdout",
     "output_type": "stream",
     "text": [
      "Averaged base models score: 0.1235 (0.0069)\n",
      "\n",
      "Averaged base models score: 0.1235 (0.0064)\n",
      "\n",
      "Averaged base models score: 0.1099 (0.0068)\n",
      "\n",
      "Averaged base models score: 0.1224 (0.0072)\n",
      "\n",
      "Averaged base models score: 0.1242 (0.0072)\n",
      "\n",
      "Averaged base models score: 0.1237 (0.0073)\n",
      "\n",
      "Averaged base models score: 0.1092 (0.0063)\n",
      "\n",
      "Averaged base models score: 0.1237 (0.0069)\n",
      "\n",
      "Averaged base models score: 0.1085 (0.0064)\n",
      "\n",
      "Averaged base models score: 0.1241 (0.0071)\n",
      "\n",
      "Averaged base models score: 0.1091 (0.0065)\n",
      "\n",
      "Averaged base models score: 0.1247 (0.0071)\n",
      "\n",
      "Averaged base models score: 0.1235 (0.0063)\n",
      "\n",
      "Averaged base models score: 0.1100 (0.0068)\n",
      "\n",
      "Averaged base models score: 0.1231 (0.0068)\n",
      "\n",
      "Averaged base models score: 0.1239 (0.0071)\n",
      "\n",
      "Averaged base models score: 0.1243 (0.0068)\n",
      "\n",
      "Averaged base models score: 0.1101 (0.0067)\n",
      "\n",
      "Averaged base models score: 0.1239 (0.0069)\n",
      "\n",
      "Averaged base models score: 0.1247 (0.0072)\n",
      "\n",
      "Averaged base models score: 0.1240 (0.0070)\n",
      "\n",
      "Averaged base models score: 0.1238 (0.0065)\n",
      "\n",
      "Averaged base models score: 0.1096 (0.0067)\n",
      "\n",
      "Averaged base models score: 0.1238 (0.0073)\n",
      "\n",
      "Averaged base models score: 0.1242 (0.0071)\n",
      "\n",
      "Averaged base models score: 0.1239 (0.0070)\n",
      "\n",
      "Averaged base models score: 0.1246 (0.0071)\n",
      "\n",
      "Averaged base models score: 0.1086 (0.0065)\n",
      "\n",
      "Averaged base models score: 0.1191 (0.0067)\n",
      "\n",
      "Averaged base models score: 0.1082 (0.0063)\n",
      "\n",
      "Averaged base models score: 0.1194 (0.0068)\n",
      "\n",
      "Averaged base models score: 0.1087 (0.0064)\n",
      "\n",
      "Averaged base models score: 0.1195 (0.0069)\n",
      "\n",
      "Averaged base models score: 0.1188 (0.0064)\n",
      "\n",
      "Averaged base models score: 0.1093 (0.0068)\n",
      "\n",
      "Averaged base models score: 0.1184 (0.0067)\n",
      "\n",
      "Averaged base models score: 0.1192 (0.0068)\n",
      "\n",
      "Averaged base models score: 0.1193 (0.0066)\n",
      "\n",
      "Averaged base models score: 0.1091 (0.0066)\n",
      "\n",
      "Averaged base models score: 0.1192 (0.0069)\n",
      "\n",
      "Averaged base models score: 0.1195 (0.0069)\n",
      "\n",
      "Averaged base models score: 0.1191 (0.0064)\n",
      "\n",
      "Averaged base models score: 0.1187 (0.0064)\n",
      "\n",
      "Averaged base models score: 0.1085 (0.0068)\n",
      "\n",
      "Averaged base models score: 0.1185 (0.0065)\n",
      "\n",
      "Averaged base models score: 0.1192 (0.0069)\n",
      "\n",
      "Averaged base models score: 0.1188 (0.0066)\n",
      "\n",
      "Averaged base models score: 0.1194 (0.0069)\n",
      "\n",
      "Averaged base models score: 0.1193 (0.0067)\n",
      "\n",
      "Averaged base models score: 0.1093 (0.0066)\n",
      "\n",
      "Averaged base models score: 0.1190 (0.0063)\n",
      "\n",
      "Averaged base models score: 0.1196 (0.0069)\n",
      "\n",
      "Averaged base models score: 0.1194 (0.0070)\n",
      "\n",
      "Averaged base models score: 0.1198 (0.0066)\n",
      "\n",
      "Averaged base models score: 0.1191 (0.0068)\n",
      "\n",
      "Averaged base models score: 0.1163 (0.0064)\n",
      "\n",
      "Averaged base models score: 0.1085 (0.0065)\n",
      "\n",
      "Averaged base models score: 0.1160 (0.0067)\n",
      "\n",
      "Averaged base models score: 0.1165 (0.0067)\n",
      "\n",
      "Averaged base models score: 0.1163 (0.0065)\n",
      "\n",
      "Averaged base models score: 0.1164 (0.0067)\n",
      "\n",
      "Averaged base models score: 0.1159 (0.0066)\n",
      "\n",
      "Averaged base models score: 0.1164 (0.0066)\n",
      "\n",
      "Averaged base models score: 0.1137 (0.0066)\n",
      "\n"
     ]
    }
   ],
   "source": [
    "models_list = {'model_lasso':model_lasso, 'model_ridge':model_ridge, \n",
    "               'model_ENet':model_ENet, 'model_KRR':model_KRR, \n",
    "               'model_GBoost':model_GBoost, 'model_xgb':model_xgb, \n",
    "               'model_xgb_linear':model_xgb_linear, 'model_lgb':model_lgb}\n",
    "\n",
    "models_combinations = {'score_mean' : [], \n",
    "                       'score_std' : [],\n",
    "                       'models_list' : []}\n",
    "\n",
    "for i in range(2, len(models_list) + 1):\n",
    "    for subset in itertools.combinations(models_list, i):\n",
    "        models_combinations['models_list'].append(subset)\n",
    "        subset = [models_list[el] for el in subset]\n",
    "        subset_models = AveragingModels(models = subset)\n",
    "        subset_score = rmsle_cv(subset_models, X_train, y_train)\n",
    "        print('Averaged base models score: {:.4f} ({:.4f})\\n'.format(subset_score.mean(), subset_score.std()))\n",
    "        models_combinations['score_mean'].append(subset_score.mean())\n",
    "        models_combinations['score_std'].append(subset_score.std())\n",
    "        "
   ]
  },
  {
   "cell_type": "code",
   "execution_count": 676,
   "metadata": {},
   "outputs": [],
   "source": [
    "models_combinations = pd.DataFrame(models_combinations)"
   ]
  },
  {
   "cell_type": "code",
   "execution_count": 685,
   "metadata": {},
   "outputs": [
    {
     "data": {
      "text/html": [
       "<div>\n",
       "<style scoped>\n",
       "    .dataframe tbody tr th:only-of-type {\n",
       "        vertical-align: middle;\n",
       "    }\n",
       "\n",
       "    .dataframe tbody tr th {\n",
       "        vertical-align: top;\n",
       "    }\n",
       "\n",
       "    .dataframe thead th {\n",
       "        text-align: right;\n",
       "    }\n",
       "</style>\n",
       "<table border=\"1\" class=\"dataframe\">\n",
       "  <thead>\n",
       "    <tr style=\"text-align: right;\">\n",
       "      <th></th>\n",
       "      <th>score_mean</th>\n",
       "      <th>score_std</th>\n",
       "      <th>models_list</th>\n",
       "    </tr>\n",
       "  </thead>\n",
       "  <tbody>\n",
       "    <tr>\n",
       "      <th>99</th>\n",
       "      <td>0.10768</td>\n",
       "      <td>0.00623</td>\n",
       "      <td>(model_lasso, model_ENet, model_KRR, model_GBo...</td>\n",
       "    </tr>\n",
       "  </tbody>\n",
       "</table>\n",
       "</div>"
      ],
      "text/plain": [
       "    score_mean  score_std                                        models_list\n",
       "99     0.10768    0.00623  (model_lasso, model_ENet, model_KRR, model_GBo..."
      ]
     },
     "execution_count": 685,
     "metadata": {},
     "output_type": "execute_result"
    }
   ],
   "source": [
    "models_combinations.iloc[[np.argmin(models_combinations['score_mean'])]]"
   ]
  },
  {
   "cell_type": "code",
   "execution_count": 687,
   "metadata": {},
   "outputs": [
    {
     "data": {
      "text/plain": [
       "array([('model_lasso', 'model_ENet', 'model_KRR', 'model_GBoost')],\n",
       "      dtype=object)"
      ]
     },
     "execution_count": 687,
     "metadata": {},
     "output_type": "execute_result"
    }
   ],
   "source": [
    "models_combinations.iloc[[np.argmin(models_combinations['score_mean'])]]['models_list'].values"
   ]
  },
  {
   "cell_type": "markdown",
   "metadata": {},
   "source": [
    "# Kaggle score"
   ]
  },
  {
   "cell_type": "markdown",
   "metadata": {},
   "source": [
    "Let's try to average predictions of this models with untuned parametrs and see score on leaderboard. "
   ]
  },
  {
   "cell_type": "code",
   "execution_count": 698,
   "metadata": {},
   "outputs": [],
   "source": [
    "lasso_test = model_lasso.fit(X_train, y_train)\n",
    "lasso_test = np.expm1(lasso_test.predict(X_test).reshape(-1, 1))\n",
    "# lasso_test = pt_target.inverse_transform(lasso_test.predict(X_test).reshape(-1, 1))"
   ]
  },
  {
   "cell_type": "code",
   "execution_count": 699,
   "metadata": {},
   "outputs": [],
   "source": [
    "ridge_test = model_ridge.fit(X_train, y_train)\n",
    "ridge_test = np.expm1(ridge_test.predict(X_test).reshape(-1, 1))\n",
    "# ridge_test = pt_target.inverse_transform(ridge_test.predict(X_test).reshape(-1, 1))"
   ]
  },
  {
   "cell_type": "code",
   "execution_count": 700,
   "metadata": {},
   "outputs": [],
   "source": [
    "elastic_test = model_ENet.fit(X_train, y_train)\n",
    "elastic_test = np.expm1(elastic_test.predict(X_test).reshape(-1, 1))\n",
    "# elastic_test = pt_target.inverse_transform(elastic_test.predict(X_test).reshape(-1, 1))"
   ]
  },
  {
   "cell_type": "code",
   "execution_count": 701,
   "metadata": {},
   "outputs": [],
   "source": [
    "kernel_test = model_KRR.fit(X_train, y_train)\n",
    "kernel_test = np.expm1(kernel_test.predict(X_test).reshape(-1, 1))\n",
    "# kernel_test = pt_target.inverse_transform(kernel_test.predict(X_test).reshape(-1, 1))"
   ]
  },
  {
   "cell_type": "code",
   "execution_count": 702,
   "metadata": {},
   "outputs": [],
   "source": [
    "gb_test = model_GBoost.fit(X_train, y_train)\n",
    "\n",
    "gb_test = np.expm1(gb_test.predict(X_test).reshape(-1, 1))\n",
    "# gb_test = pt_target.inverse_transform(gb_test.predict(X_test).reshape(-1, 1))"
   ]
  },
  {
   "cell_type": "code",
   "execution_count": 703,
   "metadata": {},
   "outputs": [],
   "source": [
    "xgb_test = model_xgb.fit(X_train, y_train)\n",
    "\n",
    "xgb_test = np.expm1(xgb_test.predict(X_test).reshape(-1, 1))\n",
    "# xgb_test = pt_target.inverse_transform(xgb_test.predict(X_test).reshape(-1, 1))"
   ]
  },
  {
   "cell_type": "code",
   "execution_count": 704,
   "metadata": {},
   "outputs": [],
   "source": [
    "xgb_linear_test = model_xgb_linear.fit(X_train, y_train)\n",
    "\n",
    "xgb_linear_test = np.expm1(xgb_linear_test.predict(X_test).reshape(-1, 1))\n",
    "# xgb_linear_test = pt_target.inverse_transform(xgb_linear_test.predict(X_test).reshape(-1, 1))"
   ]
  },
  {
   "cell_type": "code",
   "execution_count": 705,
   "metadata": {},
   "outputs": [],
   "source": [
    "lgb_test = model_lgb.fit(X_train, y_train)\n",
    "\n",
    "lgb_test = np.expm1(lgb_test.predict(X_test).reshape(-1, 1))\n",
    "# lgb_test = pt_target.inverse_transform(lgb_test.predict(X_test).reshape(-1, 1))"
   ]
  },
  {
   "cell_type": "code",
   "execution_count": 706,
   "metadata": {},
   "outputs": [],
   "source": [
    "predicted_test = 0.25 * lasso_test + \\\n",
    "                 0.25 * elastic_test + \\\n",
    "                 0.25 * kernel_test + \\\n",
    "                 0.25 * gb_test\n"
   ]
  },
  {
   "cell_type": "code",
   "execution_count": 707,
   "metadata": {},
   "outputs": [],
   "source": [
    "write_to_submission_file(predicted_test, 'house_pricing_submission.csv')"
   ]
  },
  {
   "cell_type": "markdown",
   "metadata": {},
   "source": [
    "The score is 0.11667, previous test score was 0.11629"
   ]
  }
 ],
 "metadata": {
  "kernelspec": {
   "display_name": "Python 3",
   "language": "python",
   "name": "python3"
  },
  "language_info": {
   "codemirror_mode": {
    "name": "ipython",
    "version": 3
   },
   "file_extension": ".py",
   "mimetype": "text/x-python",
   "name": "python",
   "nbconvert_exporter": "python",
   "pygments_lexer": "ipython3",
   "version": "3.6.6"
  }
 },
 "nbformat": 4,
 "nbformat_minor": 2
}

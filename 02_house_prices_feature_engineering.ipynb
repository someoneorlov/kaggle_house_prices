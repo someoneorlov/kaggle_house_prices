{
 "cells": [
  {
   "cell_type": "code",
   "execution_count": 147,
   "metadata": {},
   "outputs": [],
   "source": [
    "import numpy as np\n",
    "import pandas as pd\n",
    "\n",
    "import scipy.stats as st\n",
    "# from scipy.stats import skew\n",
    "# from math import sqrt\n",
    "# import missingno as msno\n",
    "\n",
    "import matplotlib.pyplot as plt\n",
    "import seaborn as sns\n",
    "# import plotly.plotly as py\n",
    "# import plotly.graph_objs as go\n",
    "# from plotly import tools\n",
    "# from plotly.offline import init_notebook_mode, iplot\n",
    "# init_notebook_mode(connected=True)\n",
    "%matplotlib inline\n",
    "sns.set()\n",
    "\n",
    "from sklearn.impute import SimpleImputer\n",
    "from sklearn.pipeline import make_pipeline\n",
    "# from sklearn.compose import ColumnTransformer\n",
    "from sklearn.preprocessing import PowerTransformer\n",
    "from sklearn.preprocessing import OneHotEncoder\n",
    "from sklearn.preprocessing import StandardScaler\n",
    "# from sklearn.preprocessing import PolynomialFeatures\n",
    "from sklearn.preprocessing import RobustScaler\n",
    "# from sklearn.model_selection import train_test_split\n",
    "from sklearn.model_selection import cross_val_score\n",
    "# from sklearn.model_selection import GridSearchCV\n",
    "from sklearn.model_selection import KFold\n",
    "from sklearn.linear_model import Lasso\n",
    "# from sklearn.linear_model import LassoCV\n",
    "from sklearn.linear_model import Ridge\n",
    "# from sklearn.linear_model import RidgeCV\n",
    "from sklearn.linear_model import ElasticNet\n",
    "# from sklearn.linear_model import ElasticNetCV\n",
    "# from sklearn.linear_model import BayesianRidge\n",
    "# from sklearn.linear_model import LassoLarsIC\n",
    "# from sklearn.ensemble import RandomForestRegressor\n",
    "from sklearn.ensemble import GradientBoostingRegressor\n",
    "from sklearn.kernel_ridge import KernelRidge\n",
    "# from sklearn.base import BaseEstimator\n",
    "# from sklearn.base import TransformerMixin\n",
    "# from sklearn.base import RegressorMixin\n",
    "# from sklearn.base import clone\n",
    "# from sklearn.metrics import mean_squared_error\n",
    "\n",
    "import xgboost as xgb\n",
    "import lightgbm as lgb\n",
    "\n",
    "import warnings\n",
    "warnings.filterwarnings('ignore')\n",
    "pd.set_option('display.float_format', \n",
    "              lambda x: '{:.5f}'.format(x)) #Limiting floats output to 5 decimal points"
   ]
  },
  {
   "cell_type": "code",
   "execution_count": 148,
   "metadata": {},
   "outputs": [],
   "source": [
    "def gauss_like(dframes, fitter):\n",
    "    \n",
    "    '''If shapiro statistic better after power transformation, \n",
    "       apply it to column, else just scale column'''\n",
    "    \n",
    "    num_cols = dframes[0].select_dtypes(include=[np.number]).columns\n",
    "    changed_cols = []\n",
    "    scaled_cols = []\n",
    "    \n",
    "    for col in num_cols:\n",
    "        t = dframes[0][[col]].copy()\n",
    "        shapiro_before = st.shapiro(dframes[0][col])[0]\n",
    "        t = fitter[0].fit_transform(t)\n",
    "        shapiro_after = st.shapiro(t)[0]\n",
    "            \n",
    "        if shapiro_before < shapiro_after:\n",
    "            dframes[0][col] = t\n",
    "            \n",
    "            for df in dframes[1:]:\n",
    "                df[[col]] = fitter[0].transform(df[[col]])\n",
    "                \n",
    "            changed_cols.append(col)\n",
    "                \n",
    "        else:\n",
    "            dframes[0][[col]] = fitter[1].fit_transform(dframes[0][[col]])\n",
    "            \n",
    "            for df in dframes[1:]:\n",
    "                df[[col]] = fitter[1].transform(df[[col]])\n",
    "                \n",
    "            scaled_cols.append(col)\n",
    "    \n",
    "    print('Transformed columns: ')\n",
    "    print(*changed_cols, sep=', ')\n",
    "    print('Scaled columns: ')\n",
    "    print(*scaled_cols, sep=', ')\n",
    "    \n",
    "    return dframes\n",
    "    \n",
    "\n",
    "def rmsle_cv(model, X, y):\n",
    "    \n",
    "    ''' cross_val_score with shuffled data before splitting. \n",
    "        Return Root-Mean-Squared-Error (RMSE) '''\n",
    "    \n",
    "    kf = KFold(n_splits=5, shuffle=True, random_state=42).get_n_splits(X.values)\n",
    "    \n",
    "    rmse = np.sqrt(-cross_val_score(model, \n",
    "                                    X.values, \n",
    "                                    y, \n",
    "                                    scoring='neg_mean_squared_error', \n",
    "                                    cv = kf))\n",
    "    return(rmse)\n",
    "\n",
    "\n",
    "def write_to_submission_file(predicted_labels, out_file,\n",
    "                             target='SalePrice', index_label=\"Id\"):\n",
    "    predicted_df = pd.DataFrame(predicted_labels,\n",
    "                                index=np.arange(1461, predicted_labels.shape[0] + 1461),\n",
    "                                columns=[target])\n",
    "    predicted_df.to_csv(out_file, index_label=index_label)"
   ]
  },
  {
   "cell_type": "code",
   "execution_count": 149,
   "metadata": {},
   "outputs": [],
   "source": [
    "train = pd.read_csv('data/train.csv', index_col='Id')\n",
    "test = pd.read_csv('data/test.csv', index_col='Id')"
   ]
  },
  {
   "cell_type": "code",
   "execution_count": 150,
   "metadata": {
    "scrolled": true
   },
   "outputs": [
    {
     "data": {
      "text/html": [
       "<div>\n",
       "<style scoped>\n",
       "    .dataframe tbody tr th:only-of-type {\n",
       "        vertical-align: middle;\n",
       "    }\n",
       "\n",
       "    .dataframe tbody tr th {\n",
       "        vertical-align: top;\n",
       "    }\n",
       "\n",
       "    .dataframe thead th {\n",
       "        text-align: right;\n",
       "    }\n",
       "</style>\n",
       "<table border=\"1\" class=\"dataframe\">\n",
       "  <thead>\n",
       "    <tr style=\"text-align: right;\">\n",
       "      <th></th>\n",
       "      <th>MSSubClass</th>\n",
       "      <th>MSZoning</th>\n",
       "      <th>LotFrontage</th>\n",
       "      <th>LotArea</th>\n",
       "      <th>Street</th>\n",
       "      <th>Alley</th>\n",
       "      <th>LotShape</th>\n",
       "      <th>LandContour</th>\n",
       "      <th>Utilities</th>\n",
       "      <th>LotConfig</th>\n",
       "      <th>...</th>\n",
       "      <th>PoolArea</th>\n",
       "      <th>PoolQC</th>\n",
       "      <th>Fence</th>\n",
       "      <th>MiscFeature</th>\n",
       "      <th>MiscVal</th>\n",
       "      <th>MoSold</th>\n",
       "      <th>YrSold</th>\n",
       "      <th>SaleType</th>\n",
       "      <th>SaleCondition</th>\n",
       "      <th>SalePrice</th>\n",
       "    </tr>\n",
       "    <tr>\n",
       "      <th>Id</th>\n",
       "      <th></th>\n",
       "      <th></th>\n",
       "      <th></th>\n",
       "      <th></th>\n",
       "      <th></th>\n",
       "      <th></th>\n",
       "      <th></th>\n",
       "      <th></th>\n",
       "      <th></th>\n",
       "      <th></th>\n",
       "      <th></th>\n",
       "      <th></th>\n",
       "      <th></th>\n",
       "      <th></th>\n",
       "      <th></th>\n",
       "      <th></th>\n",
       "      <th></th>\n",
       "      <th></th>\n",
       "      <th></th>\n",
       "      <th></th>\n",
       "      <th></th>\n",
       "    </tr>\n",
       "  </thead>\n",
       "  <tbody>\n",
       "    <tr>\n",
       "      <th>1</th>\n",
       "      <td>60</td>\n",
       "      <td>RL</td>\n",
       "      <td>65.00000</td>\n",
       "      <td>8450</td>\n",
       "      <td>Pave</td>\n",
       "      <td>NaN</td>\n",
       "      <td>Reg</td>\n",
       "      <td>Lvl</td>\n",
       "      <td>AllPub</td>\n",
       "      <td>Inside</td>\n",
       "      <td>...</td>\n",
       "      <td>0</td>\n",
       "      <td>NaN</td>\n",
       "      <td>NaN</td>\n",
       "      <td>NaN</td>\n",
       "      <td>0</td>\n",
       "      <td>2</td>\n",
       "      <td>2008</td>\n",
       "      <td>WD</td>\n",
       "      <td>Normal</td>\n",
       "      <td>208500</td>\n",
       "    </tr>\n",
       "    <tr>\n",
       "      <th>2</th>\n",
       "      <td>20</td>\n",
       "      <td>RL</td>\n",
       "      <td>80.00000</td>\n",
       "      <td>9600</td>\n",
       "      <td>Pave</td>\n",
       "      <td>NaN</td>\n",
       "      <td>Reg</td>\n",
       "      <td>Lvl</td>\n",
       "      <td>AllPub</td>\n",
       "      <td>FR2</td>\n",
       "      <td>...</td>\n",
       "      <td>0</td>\n",
       "      <td>NaN</td>\n",
       "      <td>NaN</td>\n",
       "      <td>NaN</td>\n",
       "      <td>0</td>\n",
       "      <td>5</td>\n",
       "      <td>2007</td>\n",
       "      <td>WD</td>\n",
       "      <td>Normal</td>\n",
       "      <td>181500</td>\n",
       "    </tr>\n",
       "    <tr>\n",
       "      <th>3</th>\n",
       "      <td>60</td>\n",
       "      <td>RL</td>\n",
       "      <td>68.00000</td>\n",
       "      <td>11250</td>\n",
       "      <td>Pave</td>\n",
       "      <td>NaN</td>\n",
       "      <td>IR1</td>\n",
       "      <td>Lvl</td>\n",
       "      <td>AllPub</td>\n",
       "      <td>Inside</td>\n",
       "      <td>...</td>\n",
       "      <td>0</td>\n",
       "      <td>NaN</td>\n",
       "      <td>NaN</td>\n",
       "      <td>NaN</td>\n",
       "      <td>0</td>\n",
       "      <td>9</td>\n",
       "      <td>2008</td>\n",
       "      <td>WD</td>\n",
       "      <td>Normal</td>\n",
       "      <td>223500</td>\n",
       "    </tr>\n",
       "    <tr>\n",
       "      <th>4</th>\n",
       "      <td>70</td>\n",
       "      <td>RL</td>\n",
       "      <td>60.00000</td>\n",
       "      <td>9550</td>\n",
       "      <td>Pave</td>\n",
       "      <td>NaN</td>\n",
       "      <td>IR1</td>\n",
       "      <td>Lvl</td>\n",
       "      <td>AllPub</td>\n",
       "      <td>Corner</td>\n",
       "      <td>...</td>\n",
       "      <td>0</td>\n",
       "      <td>NaN</td>\n",
       "      <td>NaN</td>\n",
       "      <td>NaN</td>\n",
       "      <td>0</td>\n",
       "      <td>2</td>\n",
       "      <td>2006</td>\n",
       "      <td>WD</td>\n",
       "      <td>Abnorml</td>\n",
       "      <td>140000</td>\n",
       "    </tr>\n",
       "    <tr>\n",
       "      <th>5</th>\n",
       "      <td>60</td>\n",
       "      <td>RL</td>\n",
       "      <td>84.00000</td>\n",
       "      <td>14260</td>\n",
       "      <td>Pave</td>\n",
       "      <td>NaN</td>\n",
       "      <td>IR1</td>\n",
       "      <td>Lvl</td>\n",
       "      <td>AllPub</td>\n",
       "      <td>FR2</td>\n",
       "      <td>...</td>\n",
       "      <td>0</td>\n",
       "      <td>NaN</td>\n",
       "      <td>NaN</td>\n",
       "      <td>NaN</td>\n",
       "      <td>0</td>\n",
       "      <td>12</td>\n",
       "      <td>2008</td>\n",
       "      <td>WD</td>\n",
       "      <td>Normal</td>\n",
       "      <td>250000</td>\n",
       "    </tr>\n",
       "  </tbody>\n",
       "</table>\n",
       "<p>5 rows × 80 columns</p>\n",
       "</div>"
      ],
      "text/plain": [
       "    MSSubClass MSZoning  LotFrontage  LotArea Street Alley LotShape  \\\n",
       "Id                                                                    \n",
       "1           60       RL     65.00000     8450   Pave   NaN      Reg   \n",
       "2           20       RL     80.00000     9600   Pave   NaN      Reg   \n",
       "3           60       RL     68.00000    11250   Pave   NaN      IR1   \n",
       "4           70       RL     60.00000     9550   Pave   NaN      IR1   \n",
       "5           60       RL     84.00000    14260   Pave   NaN      IR1   \n",
       "\n",
       "   LandContour Utilities LotConfig    ...     PoolArea PoolQC Fence  \\\n",
       "Id                                    ...                             \n",
       "1          Lvl    AllPub    Inside    ...            0    NaN   NaN   \n",
       "2          Lvl    AllPub       FR2    ...            0    NaN   NaN   \n",
       "3          Lvl    AllPub    Inside    ...            0    NaN   NaN   \n",
       "4          Lvl    AllPub    Corner    ...            0    NaN   NaN   \n",
       "5          Lvl    AllPub       FR2    ...            0    NaN   NaN   \n",
       "\n",
       "   MiscFeature MiscVal MoSold  YrSold  SaleType  SaleCondition  SalePrice  \n",
       "Id                                                                         \n",
       "1          NaN       0      2    2008        WD         Normal     208500  \n",
       "2          NaN       0      5    2007        WD         Normal     181500  \n",
       "3          NaN       0      9    2008        WD         Normal     223500  \n",
       "4          NaN       0      2    2006        WD        Abnorml     140000  \n",
       "5          NaN       0     12    2008        WD         Normal     250000  \n",
       "\n",
       "[5 rows x 80 columns]"
      ]
     },
     "execution_count": 150,
     "metadata": {},
     "output_type": "execute_result"
    }
   ],
   "source": [
    "train.head()"
   ]
  },
  {
   "cell_type": "markdown",
   "metadata": {},
   "source": [
    "## Outliars"
   ]
  },
  {
   "cell_type": "markdown",
   "metadata": {},
   "source": [
    "As written in documentation http://jse.amstat.org/v19n3/decock.pdf:\n",
    "\n",
    "*Potential Pitfalls (Outliers): Although all known errors were corrected in the data, no observations have been removed due to unusual values and all final residential sales from the initial data set are included in the data presented with this article. There are five observations that an instructor may wish to remove from the data set before giving it to students (a plot of SALE PRICE versus GR LIV AREA will quickly indicate these points). Three of them are true outliers (Partial Sales that likely don’t represent actual market values) and two of them are simply unusual sales (very large houses priced relatively appropriately). I would recommend removing any houses with more than 4000 square feet from the data set (which eliminates these five unusual observations) before assigning it to students.*\n",
    "\n",
    "So we can find and delete this outliars."
   ]
  },
  {
   "cell_type": "code",
   "execution_count": 151,
   "metadata": {},
   "outputs": [
    {
     "data": {
      "image/png": "[encoded data removed]",
      "text/plain": [
       "<Figure size 432x288 with 1 Axes>"
      ]
     },
     "metadata": {},
     "output_type": "display_data"
    }
   ],
   "source": [
    "fig, ax = plt.subplots()\n",
    "ax.scatter(x = train['GrLivArea'], y = train['SalePrice'])\n",
    "plt.ylabel('SalePrice', fontsize=13)\n",
    "plt.xlabel('GrLivArea', fontsize=13)\n",
    "plt.show()"
   ]
  },
  {
   "cell_type": "markdown",
   "metadata": {},
   "source": [
    "We add additional condition in order not to delete unusual sales (very large houses priced relatively appropriately). I have compared, and it worked slightly better."
   ]
  },
  {
   "cell_type": "code",
   "execution_count": 152,
   "metadata": {
    "scrolled": true
   },
   "outputs": [
    {
     "data": {
      "image/png": "[encoded data removed]",
      "text/plain": [
       "<Figure size 432x288 with 1 Axes>"
      ]
     },
     "metadata": {},
     "output_type": "display_data"
    }
   ],
   "source": [
    "#Deleting outliers\n",
    "train = train.drop(train[(train['GrLivArea']>4000) & \n",
    "                         (train['SalePrice']<300000)].index)\n",
    "\n",
    "#Check the graphic again\n",
    "fig, ax = plt.subplots()\n",
    "ax.scatter(train['GrLivArea'], train['SalePrice'])\n",
    "plt.ylabel('SalePrice', fontsize=13)\n",
    "plt.xlabel('GrLivArea', fontsize=13)\n",
    "plt.show()"
   ]
  },
  {
   "cell_type": "markdown",
   "metadata": {},
   "source": [
    "Also we delete some outliers in other features. Deleting outliers below slightly improves scores.  "
   ]
  },
  {
   "cell_type": "code",
   "execution_count": 153,
   "metadata": {},
   "outputs": [],
   "source": [
    "train = train.drop(train[(train['LotArea']>100000)].index)\n",
    "train = train.drop(train[(train['MasVnrArea']>1500)].index)\n",
    "train = train.drop(train[(train['EnclosedPorch']>500)].index)"
   ]
  },
  {
   "cell_type": "markdown",
   "metadata": {},
   "source": [
    "## Handling missing values"
   ]
  },
  {
   "cell_type": "code",
   "execution_count": 154,
   "metadata": {},
   "outputs": [
    {
     "data": {
      "text/plain": [
       "79"
      ]
     },
     "execution_count": 154,
     "metadata": {},
     "output_type": "execute_result"
    }
   ],
   "source": [
    "X_train = train.copy()\n",
    "X_test = test.copy()\n",
    "\n",
    "y_train = X_train[['SalePrice']]\n",
    "X_train.drop(['SalePrice'], axis=1, inplace=True)\n",
    "\n",
    "numerical_columns = X_train.select_dtypes(include=[np.number]).columns\n",
    "categorical_columsns = X_train.select_dtypes(include=[np.object]).columns\n",
    "\n",
    "numerical_columns.size + categorical_columsns.size"
   ]
  },
  {
   "cell_type": "code",
   "execution_count": 155,
   "metadata": {},
   "outputs": [
    {
     "data": {
      "text/html": [
       "<div>\n",
       "<style scoped>\n",
       "    .dataframe tbody tr th:only-of-type {\n",
       "        vertical-align: middle;\n",
       "    }\n",
       "\n",
       "    .dataframe tbody tr th {\n",
       "        vertical-align: top;\n",
       "    }\n",
       "\n",
       "    .dataframe thead th {\n",
       "        text-align: right;\n",
       "    }\n",
       "</style>\n",
       "<table border=\"1\" class=\"dataframe\">\n",
       "  <thead>\n",
       "    <tr style=\"text-align: right;\">\n",
       "      <th></th>\n",
       "      <th>missing</th>\n",
       "    </tr>\n",
       "  </thead>\n",
       "  <tbody>\n",
       "    <tr>\n",
       "      <th>PoolQC</th>\n",
       "      <td>1447</td>\n",
       "    </tr>\n",
       "    <tr>\n",
       "      <th>MiscFeature</th>\n",
       "      <td>1400</td>\n",
       "    </tr>\n",
       "    <tr>\n",
       "      <th>Alley</th>\n",
       "      <td>1362</td>\n",
       "    </tr>\n",
       "    <tr>\n",
       "      <th>Fence</th>\n",
       "      <td>1172</td>\n",
       "    </tr>\n",
       "    <tr>\n",
       "      <th>FireplaceQu</th>\n",
       "      <td>690</td>\n",
       "    </tr>\n",
       "    <tr>\n",
       "      <th>LotFrontage</th>\n",
       "      <td>256</td>\n",
       "    </tr>\n",
       "    <tr>\n",
       "      <th>GarageYrBlt</th>\n",
       "      <td>81</td>\n",
       "    </tr>\n",
       "    <tr>\n",
       "      <th>GarageType</th>\n",
       "      <td>81</td>\n",
       "    </tr>\n",
       "    <tr>\n",
       "      <th>GarageFinish</th>\n",
       "      <td>81</td>\n",
       "    </tr>\n",
       "    <tr>\n",
       "      <th>GarageQual</th>\n",
       "      <td>81</td>\n",
       "    </tr>\n",
       "    <tr>\n",
       "      <th>GarageCond</th>\n",
       "      <td>81</td>\n",
       "    </tr>\n",
       "    <tr>\n",
       "      <th>BsmtFinType2</th>\n",
       "      <td>38</td>\n",
       "    </tr>\n",
       "    <tr>\n",
       "      <th>BsmtExposure</th>\n",
       "      <td>38</td>\n",
       "    </tr>\n",
       "    <tr>\n",
       "      <th>BsmtFinType1</th>\n",
       "      <td>37</td>\n",
       "    </tr>\n",
       "    <tr>\n",
       "      <th>BsmtCond</th>\n",
       "      <td>37</td>\n",
       "    </tr>\n",
       "    <tr>\n",
       "      <th>BsmtQual</th>\n",
       "      <td>37</td>\n",
       "    </tr>\n",
       "    <tr>\n",
       "      <th>MasVnrArea</th>\n",
       "      <td>8</td>\n",
       "    </tr>\n",
       "    <tr>\n",
       "      <th>MasVnrType</th>\n",
       "      <td>8</td>\n",
       "    </tr>\n",
       "    <tr>\n",
       "      <th>Electrical</th>\n",
       "      <td>1</td>\n",
       "    </tr>\n",
       "  </tbody>\n",
       "</table>\n",
       "</div>"
      ],
      "text/plain": [
       "              missing\n",
       "PoolQC           1447\n",
       "MiscFeature      1400\n",
       "Alley            1362\n",
       "Fence            1172\n",
       "FireplaceQu       690\n",
       "LotFrontage       256\n",
       "GarageYrBlt        81\n",
       "GarageType         81\n",
       "GarageFinish       81\n",
       "GarageQual         81\n",
       "GarageCond         81\n",
       "BsmtFinType2       38\n",
       "BsmtExposure       38\n",
       "BsmtFinType1       37\n",
       "BsmtCond           37\n",
       "BsmtQual           37\n",
       "MasVnrArea          8\n",
       "MasVnrType          8\n",
       "Electrical          1"
      ]
     },
     "execution_count": 155,
     "metadata": {},
     "output_type": "execute_result"
    }
   ],
   "source": [
    "train_null = pd.DataFrame(X_train.isnull().sum()[X_train.isnull().sum() > 0].\n",
    "                          sort_values(ascending=False), \n",
    "                          columns = ['missing'])\n",
    "\n",
    "train_null"
   ]
  },
  {
   "cell_type": "code",
   "execution_count": 156,
   "metadata": {},
   "outputs": [
    {
     "data": {
      "text/html": [
       "<div>\n",
       "<style scoped>\n",
       "    .dataframe tbody tr th:only-of-type {\n",
       "        vertical-align: middle;\n",
       "    }\n",
       "\n",
       "    .dataframe tbody tr th {\n",
       "        vertical-align: top;\n",
       "    }\n",
       "\n",
       "    .dataframe thead th {\n",
       "        text-align: right;\n",
       "    }\n",
       "</style>\n",
       "<table border=\"1\" class=\"dataframe\">\n",
       "  <thead>\n",
       "    <tr style=\"text-align: right;\">\n",
       "      <th></th>\n",
       "      <th>missing</th>\n",
       "    </tr>\n",
       "  </thead>\n",
       "  <tbody>\n",
       "    <tr>\n",
       "      <th>PoolQC</th>\n",
       "      <td>1456</td>\n",
       "    </tr>\n",
       "    <tr>\n",
       "      <th>MiscFeature</th>\n",
       "      <td>1408</td>\n",
       "    </tr>\n",
       "    <tr>\n",
       "      <th>Alley</th>\n",
       "      <td>1352</td>\n",
       "    </tr>\n",
       "    <tr>\n",
       "      <th>Fence</th>\n",
       "      <td>1169</td>\n",
       "    </tr>\n",
       "    <tr>\n",
       "      <th>FireplaceQu</th>\n",
       "      <td>730</td>\n",
       "    </tr>\n",
       "    <tr>\n",
       "      <th>LotFrontage</th>\n",
       "      <td>227</td>\n",
       "    </tr>\n",
       "    <tr>\n",
       "      <th>GarageYrBlt</th>\n",
       "      <td>78</td>\n",
       "    </tr>\n",
       "    <tr>\n",
       "      <th>GarageCond</th>\n",
       "      <td>78</td>\n",
       "    </tr>\n",
       "    <tr>\n",
       "      <th>GarageQual</th>\n",
       "      <td>78</td>\n",
       "    </tr>\n",
       "    <tr>\n",
       "      <th>GarageFinish</th>\n",
       "      <td>78</td>\n",
       "    </tr>\n",
       "    <tr>\n",
       "      <th>GarageType</th>\n",
       "      <td>76</td>\n",
       "    </tr>\n",
       "    <tr>\n",
       "      <th>BsmtCond</th>\n",
       "      <td>45</td>\n",
       "    </tr>\n",
       "    <tr>\n",
       "      <th>BsmtExposure</th>\n",
       "      <td>44</td>\n",
       "    </tr>\n",
       "    <tr>\n",
       "      <th>BsmtQual</th>\n",
       "      <td>44</td>\n",
       "    </tr>\n",
       "    <tr>\n",
       "      <th>BsmtFinType1</th>\n",
       "      <td>42</td>\n",
       "    </tr>\n",
       "    <tr>\n",
       "      <th>BsmtFinType2</th>\n",
       "      <td>42</td>\n",
       "    </tr>\n",
       "    <tr>\n",
       "      <th>MasVnrType</th>\n",
       "      <td>16</td>\n",
       "    </tr>\n",
       "    <tr>\n",
       "      <th>MasVnrArea</th>\n",
       "      <td>15</td>\n",
       "    </tr>\n",
       "    <tr>\n",
       "      <th>MSZoning</th>\n",
       "      <td>4</td>\n",
       "    </tr>\n",
       "    <tr>\n",
       "      <th>BsmtFullBath</th>\n",
       "      <td>2</td>\n",
       "    </tr>\n",
       "    <tr>\n",
       "      <th>BsmtHalfBath</th>\n",
       "      <td>2</td>\n",
       "    </tr>\n",
       "    <tr>\n",
       "      <th>Utilities</th>\n",
       "      <td>2</td>\n",
       "    </tr>\n",
       "    <tr>\n",
       "      <th>Functional</th>\n",
       "      <td>2</td>\n",
       "    </tr>\n",
       "    <tr>\n",
       "      <th>Exterior2nd</th>\n",
       "      <td>1</td>\n",
       "    </tr>\n",
       "    <tr>\n",
       "      <th>Exterior1st</th>\n",
       "      <td>1</td>\n",
       "    </tr>\n",
       "    <tr>\n",
       "      <th>SaleType</th>\n",
       "      <td>1</td>\n",
       "    </tr>\n",
       "    <tr>\n",
       "      <th>BsmtFinSF1</th>\n",
       "      <td>1</td>\n",
       "    </tr>\n",
       "    <tr>\n",
       "      <th>BsmtFinSF2</th>\n",
       "      <td>1</td>\n",
       "    </tr>\n",
       "    <tr>\n",
       "      <th>BsmtUnfSF</th>\n",
       "      <td>1</td>\n",
       "    </tr>\n",
       "    <tr>\n",
       "      <th>KitchenQual</th>\n",
       "      <td>1</td>\n",
       "    </tr>\n",
       "    <tr>\n",
       "      <th>GarageCars</th>\n",
       "      <td>1</td>\n",
       "    </tr>\n",
       "    <tr>\n",
       "      <th>GarageArea</th>\n",
       "      <td>1</td>\n",
       "    </tr>\n",
       "    <tr>\n",
       "      <th>TotalBsmtSF</th>\n",
       "      <td>1</td>\n",
       "    </tr>\n",
       "  </tbody>\n",
       "</table>\n",
       "</div>"
      ],
      "text/plain": [
       "              missing\n",
       "PoolQC           1456\n",
       "MiscFeature      1408\n",
       "Alley            1352\n",
       "Fence            1169\n",
       "FireplaceQu       730\n",
       "LotFrontage       227\n",
       "GarageYrBlt        78\n",
       "GarageCond         78\n",
       "GarageQual         78\n",
       "GarageFinish       78\n",
       "GarageType         76\n",
       "BsmtCond           45\n",
       "BsmtExposure       44\n",
       "BsmtQual           44\n",
       "BsmtFinType1       42\n",
       "BsmtFinType2       42\n",
       "MasVnrType         16\n",
       "MasVnrArea         15\n",
       "MSZoning            4\n",
       "BsmtFullBath        2\n",
       "BsmtHalfBath        2\n",
       "Utilities           2\n",
       "Functional          2\n",
       "Exterior2nd         1\n",
       "Exterior1st         1\n",
       "SaleType            1\n",
       "BsmtFinSF1          1\n",
       "BsmtFinSF2          1\n",
       "BsmtUnfSF           1\n",
       "KitchenQual         1\n",
       "GarageCars          1\n",
       "GarageArea          1\n",
       "TotalBsmtSF         1"
      ]
     },
     "execution_count": 156,
     "metadata": {},
     "output_type": "execute_result"
    }
   ],
   "source": [
    "test_null = pd.DataFrame(X_test.isnull().sum()[X_test.isnull().sum() > 0].\n",
    "                         sort_values(ascending=False), \n",
    "                         columns = ['missing'])\n",
    "\n",
    "test_null"
   ]
  },
  {
   "cell_type": "markdown",
   "metadata": {},
   "source": [
    "Let's make a list of features, where NA means \"No something\", for eaxmple in feature \"Alley\" NA means \"No alley access\""
   ]
  },
  {
   "cell_type": "code",
   "execution_count": 157,
   "metadata": {},
   "outputs": [],
   "source": [
    "no_feature_list = np.array(['Alley', 'BsmtQual', 'BsmtCond', 'BsmtExposure', 'BsmtFinType1', \n",
    "                   'BsmtFinType2', 'FireplaceQu', 'GarageType', 'GarageFinish', \n",
    "                   'GarageQual', 'GarageCond', 'PoolQC', 'Fence', 'MiscFeature'], dtype='object')"
   ]
  },
  {
   "cell_type": "code",
   "execution_count": 158,
   "metadata": {},
   "outputs": [],
   "source": [
    "imp_cat = SimpleImputer(missing_values=np.nan, \n",
    "                        strategy='constant', \n",
    "                        fill_value='no' + no_feature_list)\n",
    "\n",
    "X_train[no_feature_list] = imp_cat.fit_transform(X_train[no_feature_list])\n",
    "X_test[no_feature_list] = imp_cat.transform(X_test[no_feature_list])"
   ]
  },
  {
   "cell_type": "markdown",
   "metadata": {},
   "source": [
    "**LotFrontage:** Since the area of each street connected to the house property most likely have a similar area to other houses in its neighborhood , we can fill in missing values by the median LotFrontage of the neighborhood."
   ]
  },
  {
   "cell_type": "code",
   "execution_count": 159,
   "metadata": {},
   "outputs": [],
   "source": [
    "imp_num= SimpleImputer(missing_values=np.nan, strategy='mean')\n",
    "\n",
    "X_train['LotFrontage'] = imp_num.fit_transform(X_train[['LotFrontage']])\n",
    "X_test['LotFrontage'] = imp_num.transform(X_test[['LotFrontage']])"
   ]
  },
  {
   "cell_type": "markdown",
   "metadata": {},
   "source": [
    "**GarageYrBlt, GarageArea and GarageCars:** Replacing missing data with 0 (Since No garage = no cars in such garage.)"
   ]
  },
  {
   "cell_type": "code",
   "execution_count": 160,
   "metadata": {},
   "outputs": [],
   "source": [
    "for col in ('GarageYrBlt', 'GarageArea', 'GarageCars'):\n",
    "    X_train[col] = X_train[col].fillna(0)\n",
    "    X_test[col] = X_test[col].fillna(0)"
   ]
  },
  {
   "cell_type": "markdown",
   "metadata": {},
   "source": [
    "**BsmtFinSF1, BsmtFinSF2, BsmtUnfSF, TotalBsmtSF, BsmtFullBath and BsmtHalfBath:** missing values are likely zero for having no basement"
   ]
  },
  {
   "cell_type": "code",
   "execution_count": 161,
   "metadata": {},
   "outputs": [],
   "source": [
    "for col in ('BsmtFinSF1', 'BsmtFinSF2', 'BsmtUnfSF','TotalBsmtSF', 'BsmtFullBath', 'BsmtHalfBath'):\n",
    "    X_train[col] = X_train[col].fillna(0)\n",
    "    X_test[col] = X_test[col].fillna(0)"
   ]
  },
  {
   "cell_type": "markdown",
   "metadata": {},
   "source": [
    "**MasVnrArea and MasVnrType:** NA most likely means no masonry veneer for these houses. We can fill 0 for the area and None for the type."
   ]
  },
  {
   "cell_type": "code",
   "execution_count": 162,
   "metadata": {},
   "outputs": [],
   "source": [
    "X_train['MasVnrType'] = X_train['MasVnrType'].fillna('NoMasVnrType')\n",
    "X_test['MasVnrType'] = X_test['MasVnrType'].fillna('NoMasVnrType')\n",
    "\n",
    "X_train['MasVnrArea'] = X_train['MasVnrArea'].fillna(0)\n",
    "X_test['MasVnrArea'] = X_test['MasVnrArea'].fillna(0)"
   ]
  },
  {
   "cell_type": "markdown",
   "metadata": {},
   "source": [
    "For the **MSZoning, Utilities, Functional, Electrical, KitchenQual, Exterior1st, Exterior2nd, SaleType** we can replace missing values with most frequent:"
   ]
  },
  {
   "cell_type": "code",
   "execution_count": 163,
   "metadata": {},
   "outputs": [],
   "source": [
    "freq_cat = np.array(['MSZoning', 'Utilities', 'Functional', 'Electrical', \n",
    "                     'KitchenQual', 'Exterior1st', 'Exterior2nd', 'SaleType'], dtype='object')\n",
    "\n",
    "imp_cat = SimpleImputer(missing_values=np.nan, \n",
    "                        strategy='most_frequent')\n",
    "\n",
    "X_train[freq_cat] = imp_cat.fit_transform(X_train[freq_cat])\n",
    "X_test[freq_cat] = imp_cat.transform(X_test[freq_cat])"
   ]
  },
  {
   "cell_type": "code",
   "execution_count": 167,
   "metadata": {},
   "outputs": [
    {
     "name": "stdout",
     "output_type": "stream",
     "text": [
      "Missing values X_train: 0\n",
      "Missing values X_test: 0\n"
     ]
    }
   ],
   "source": [
    "print('Missing values X_train: ' + \n",
    "      str(X_train.isnull().sum()[X_train.isnull().sum() > 0].size))\n",
    "\n",
    "print('Missing values X_test: ' + \n",
    "      str(X_test.isnull().sum()[X_test.isnull().sum() > 0].size))\n",
    "\n"
   ]
  },
  {
   "cell_type": "markdown",
   "metadata": {},
   "source": [
    "### Categorical features"
   ]
  },
  {
   "cell_type": "code",
   "execution_count": 10,
   "metadata": {},
   "outputs": [],
   "source": [
    "# imp_cat = SimpleImputer(missing_values=np.nan, \n",
    "#                         strategy='constant', \n",
    "#                         fill_value='no' + categorical_columsns)\n",
    "\n",
    "# X_train[categorical_columsns] = imp_cat.fit_transform(X_train[categorical_columsns])\n",
    "# X_test[categorical_columsns] = imp_cat.transform(X_test[categorical_columsns])"
   ]
  },
  {
   "cell_type": "markdown",
   "metadata": {},
   "source": [
    "### Numerical features"
   ]
  },
  {
   "cell_type": "code",
   "execution_count": 11,
   "metadata": {},
   "outputs": [],
   "source": [
    "# imp_num= SimpleImputer(missing_values=np.nan, strategy='mean')\n",
    "\n",
    "# X_train[numerical_columns] = imp_num.fit_transform(X_train[numerical_columns])\n",
    "# X_test[numerical_columns] = imp_num.transform(X_test[numerical_columns])"
   ]
  },
  {
   "cell_type": "markdown",
   "metadata": {},
   "source": [
    "## Feature normalization"
   ]
  },
  {
   "cell_type": "markdown",
   "metadata": {},
   "source": [
    "### Visualizations of target"
   ]
  },
  {
   "cell_type": "markdown",
   "metadata": {},
   "source": [
    "**Skewness and Kurtosis of target**"
   ]
  },
  {
   "cell_type": "code",
   "execution_count": 168,
   "metadata": {},
   "outputs": [
    {
     "name": "stdout",
     "output_type": "stream",
     "text": [
      "Skewness: 1.9\n",
      "Kurtosis: 6.638\n"
     ]
    }
   ],
   "source": [
    "print('Skewness: {:.4}'.format(y_train.skew()[0]))\n",
    "print('Kurtosis: {:.4}'.format(y_train.kurt()[0]))"
   ]
  },
  {
   "cell_type": "code",
   "execution_count": 169,
   "metadata": {},
   "outputs": [
    {
     "data": {
      "text/plain": [
       "(0.8680379986763, 2.6383472955817067e-33)"
      ]
     },
     "execution_count": 169,
     "metadata": {},
     "output_type": "execute_result"
    }
   ],
   "source": [
    "st.shapiro(y_train)"
   ]
  },
  {
   "cell_type": "markdown",
   "metadata": {},
   "source": [
    "**Target distributions**"
   ]
  },
  {
   "cell_type": "code",
   "execution_count": 170,
   "metadata": {
    "scrolled": true
   },
   "outputs": [
    {
     "data": {
      "image/png": "[encoded data removed]",
      "text/plain": [
       "<Figure size 1440x432 with 3 Axes>"
      ]
     },
     "metadata": {},
     "output_type": "display_data"
    }
   ],
   "source": [
    "fig, axes = plt.subplots(nrows=1, ncols=3, figsize=(20, 6))\n",
    "\n",
    "axes[0].set_title('Johnson SU')\n",
    "axes[1].set_title('Normal')\n",
    "axes[2].set_title('Log-normal')\n",
    "sns.distplot(y_train, kde=False, fit=st.johnsonsu, ax=axes[0]);\n",
    "sns.distplot(y_train, kde=False, fit=st.norm, ax=axes[1]);\n",
    "sns.distplot(y_train, kde=False, fit=st.lognorm, ax=axes[2]);"
   ]
  },
  {
   "cell_type": "code",
   "execution_count": 171,
   "metadata": {},
   "outputs": [
    {
     "data": {
      "image/png": "[encoded data removed]",
      "text/plain": [
       "<Figure size 432x288 with 1 Axes>"
      ]
     },
     "metadata": {},
     "output_type": "display_data"
    }
   ],
   "source": [
    "st.probplot(y_train.iloc[:, 0], plot=plt);"
   ]
  },
  {
   "cell_type": "markdown",
   "metadata": {},
   "source": [
    "**Make target normal again**"
   ]
  },
  {
   "cell_type": "code",
   "execution_count": 172,
   "metadata": {
    "scrolled": true
   },
   "outputs": [
    {
     "data": {
      "text/plain": [
       "(0.9913146495819092, 1.4585366159280966e-07)"
      ]
     },
     "execution_count": 172,
     "metadata": {},
     "output_type": "execute_result"
    }
   ],
   "source": [
    "pt_target = PowerTransformer(method='yeo-johnson')\n",
    "y_train['SalePrice'] = pt_target.fit_transform(y_train)\n",
    "st.shapiro(y_train)\n",
    "\n",
    "# y_train['SalePrice'] = np.log1p(y_train)\n",
    "# st.shapiro(y_train)"
   ]
  },
  {
   "cell_type": "code",
   "execution_count": 173,
   "metadata": {},
   "outputs": [
    {
     "data": {
      "image/png": "[encoded data removed]",
      "text/plain": [
       "<Figure size 1440x432 with 2 Axes>"
      ]
     },
     "metadata": {},
     "output_type": "display_data"
    }
   ],
   "source": [
    "fig, axes = plt.subplots(nrows=1, ncols=2, figsize=(20, 6))\n",
    "\n",
    "axes[0].set_title('Distribution of target')\n",
    "sns.distplot(y_train['SalePrice'], kde=False, fit=st.norm, ax=axes[0]);\n",
    "st.probplot(y_train['SalePrice'], plot=axes[1]);"
   ]
  },
  {
   "cell_type": "markdown",
   "metadata": {},
   "source": [
    "### Normalize numeric features"
   ]
  },
  {
   "cell_type": "code",
   "execution_count": 174,
   "metadata": {},
   "outputs": [
    {
     "name": "stdout",
     "output_type": "stream",
     "text": [
      "Transformed columns: \n",
      "MSSubClass, LotFrontage, LotArea, OverallQual, OverallCond, YearBuilt, YearRemodAdd, MasVnrArea, BsmtFinSF2, BsmtUnfSF, 1stFlrSF, LowQualFinSF, GrLivArea, BedroomAbvGr, TotRmsAbvGrd, GarageYrBlt, GarageCars, OpenPorchSF, 3SsnPorch, ScreenPorch, MiscVal, MoSold, YrSold\n",
      "Scaled columns: \n",
      "BsmtFinSF1, TotalBsmtSF, 2ndFlrSF, BsmtFullBath, BsmtHalfBath, FullBath, HalfBath, KitchenAbvGr, Fireplaces, GarageArea, WoodDeckSF, EnclosedPorch, PoolArea\n"
     ]
    }
   ],
   "source": [
    "pt_feat = PowerTransformer(method='yeo-johnson')\n",
    "scaler = StandardScaler()\n",
    "robust = RobustScaler()\n",
    "frame_list = gauss_like([X_train, X_test], [pt_feat, scaler])\n",
    "X_train, X_test = frame_list[0], frame_list[1]"
   ]
  },
  {
   "cell_type": "markdown",
   "metadata": {},
   "source": [
    "## Encoding categorical data"
   ]
  },
  {
   "cell_type": "code",
   "execution_count": 175,
   "metadata": {},
   "outputs": [],
   "source": [
    "onehot_encoder = OneHotEncoder(handle_unknown='ignore', sparse=False)\n",
    "\n",
    "X_train = pd.concat([X_train[numerical_columns], \n",
    "                     pd.DataFrame(onehot_encoder.\n",
    "                                  fit_transform(X_train[categorical_columsns]), \n",
    "                                  index=X_train.index)], \n",
    "                    axis=1)\n",
    "\n",
    "X_test = pd.concat([X_test[numerical_columns], \n",
    "                     pd.DataFrame(onehot_encoder.\n",
    "                                  transform(X_test[categorical_columsns]), \n",
    "                                  index=X_test.index)], \n",
    "                    axis=1)"
   ]
  },
  {
   "cell_type": "markdown",
   "metadata": {},
   "source": [
    "**Save to CSV:**"
   ]
  },
  {
   "cell_type": "code",
   "execution_count": 176,
   "metadata": {},
   "outputs": [],
   "source": [
    "pd.concat([X_train, y_train], axis=1).to_csv('data/X_train.csv')\n",
    "X_test.to_csv('data/X_test.csv')"
   ]
  },
  {
   "cell_type": "markdown",
   "metadata": {},
   "source": [
    "### **We will use parametrs below to tune features and compare results:**"
   ]
  },
  {
   "cell_type": "markdown",
   "metadata": {},
   "source": [
    "As starting parameters we will use the parameters found after the initial parameter search in kernel 03"
   ]
  },
  {
   "cell_type": "markdown",
   "metadata": {},
   "source": [
    "Save it as markdown to avoid accidentally erasing"
   ]
  },
  {
   "cell_type": "markdown",
   "metadata": {},
   "source": [
    "**Lasso:**  \n",
    "score: 0.1089\n",
    "alpha=0.0006\n",
    "\n",
    "**Ridge:**  \n",
    "score: 0.1119\n",
    "alpha=18.987\n",
    "\n",
    "**Elastic:**   \n",
    "score: 0.1092\n",
    "l1_ratio=0.6414, alpha=0.001  \n",
    "\n",
    "**Kernel Ridge:**  \n",
    "score: 0.1109  \n",
    "alpha=1.4142, coef0=3, degree=3, kernel='polynomial'\n",
    "\n",
    "**Gradient Boosting Regression:**  \n",
    "Score 0.131  \n",
    "alpha=0.9, learning_rate=0.045, loss=huber, max_depth=18, max_features=0.4, min_samples_leaf=8, min_samples_split=4, n_estimators=100, subsample=0.6} \n",
    "\n",
    "**XGB tree:**  \n",
    "Score 0.11873355586847814  \n",
    "alpha=0.1, booster=gbtree, colsample_bylevel=0.6, colsample_bynode=0.15, colsample_bytree=0.55, eval_metric='rmse', gamma=0.0, learning_rate=0.095, max_depth=2, min_child_weight=0.2, nthread=-1, num_round=500, objective='reg:linear', reg_lambda=0.85, seed=42, silent=1, subsample=0.8}\n",
    "\t\n",
    "\n",
    "**XGB linear:**  \n",
    "score:0.2053561935947925  \n",
    "alpha=0.1, booster='gblinear', eval_metric='rmse', feature_selector='cyclic', nthread=-1, num_round=500, objective='reg:linear', reg_lambda=0.1, seed=42, silent=1 \n",
    "\n",
    "**LightGBM:**  \n",
    "score: 0.11957940856119287  \n",
    "bagging_freq=6, bagging_seed=42, boosting='gbdt', feature_fraction=0.65, feature_fraction_seed=42, lambda_l1=0.1, lambda_l2=0.1, learning_rate=0.28, max_bin=260, max_depth=3, metric='rmse', min_data_in_leaf=2, min_sum_hessian_in_leaf=1, nthread=4, num_leaves=2, num_round=500, objective='huber', seed=42, subsample=0.75  "
   ]
  },
  {
   "cell_type": "markdown",
   "metadata": {},
   "source": [
    "# Modelling"
   ]
  },
  {
   "cell_type": "markdown",
   "metadata": {},
   "source": [
    "We use modified cross_val_score with suffled data before splitting."
   ]
  },
  {
   "cell_type": "markdown",
   "metadata": {},
   "source": [
    "## Base models"
   ]
  },
  {
   "cell_type": "markdown",
   "metadata": {},
   "source": [
    "### Lasso Regression:"
   ]
  },
  {
   "cell_type": "code",
   "execution_count": 177,
   "metadata": {},
   "outputs": [],
   "source": [
    "model_lasso = make_pipeline(RobustScaler(), Lasso(alpha=0.0006, \n",
    "                                            random_state=42))"
   ]
  },
  {
   "cell_type": "markdown",
   "metadata": {},
   "source": [
    "### Ridge Regression:"
   ]
  },
  {
   "cell_type": "code",
   "execution_count": 178,
   "metadata": {},
   "outputs": [],
   "source": [
    "model_ridge = make_pipeline(RobustScaler(), Ridge(alpha=18.987, \n",
    "                                            random_state=42))"
   ]
  },
  {
   "cell_type": "markdown",
   "metadata": {},
   "source": [
    "### Elastic Net Regression:"
   ]
  },
  {
   "cell_type": "code",
   "execution_count": 179,
   "metadata": {},
   "outputs": [],
   "source": [
    "model_ENet = make_pipeline(RobustScaler(), ElasticNet(l1_ratio=0.6414, \n",
    "                                                      alpha=0.001, \n",
    "                                                      random_state=42))"
   ]
  },
  {
   "cell_type": "markdown",
   "metadata": {},
   "source": [
    "### Kernel Ridge Regression:"
   ]
  },
  {
   "cell_type": "code",
   "execution_count": 180,
   "metadata": {},
   "outputs": [],
   "source": [
    "model_KRR = KernelRidge(alpha=1.4142, \n",
    "                        coef0=3, \n",
    "                        degree=3, \n",
    "                        kernel='polynomial')"
   ]
  },
  {
   "cell_type": "markdown",
   "metadata": {},
   "source": [
    "### Gradient Boosting Regression:"
   ]
  },
  {
   "cell_type": "markdown",
   "metadata": {},
   "source": [
    "With huber loss that makes it robust to outliers"
   ]
  },
  {
   "cell_type": "code",
   "execution_count": 181,
   "metadata": {},
   "outputs": [],
   "source": [
    "model_GBoost = GradientBoostingRegressor(n_estimators=100, \n",
    "                                         alpha=0.9, \n",
    "                                         learning_rate=0.045, \n",
    "                                         loss='huber', \n",
    "                                         max_depth=18, \n",
    "                                         max_features=0.4, \n",
    "                                         min_samples_leaf=8, \n",
    "                                         min_samples_split=4, \n",
    "                                         subsample=0.6, \n",
    "                                         n_iter_no_change=100)"
   ]
  },
  {
   "cell_type": "markdown",
   "metadata": {},
   "source": [
    "### XGBoost tree:"
   ]
  },
  {
   "cell_type": "code",
   "execution_count": 182,
   "metadata": {},
   "outputs": [],
   "source": [
    "model_xgb = xgb.XGBRegressor(n_estimators=100, \n",
    "                             alpha=0.1, \n",
    "                             booster='gbtree', \n",
    "                             colsample_bylevel=0.6, \n",
    "                             colsample_bynode=0.15, \n",
    "                             colsample_bytree=0.55, \n",
    "                             eval_metric='rmse', \n",
    "                             gamma=0.0, \n",
    "                             learning_rate=0.095, \n",
    "                             max_depth=2, \n",
    "                             min_child_weight=0.2, \n",
    "                             nthread=-1, \n",
    "                             num_round=500, \n",
    "                             objective='reg:linear', \n",
    "                             reg_lambda=0.85, \n",
    "                             seed=42, \n",
    "                             silent=1, \n",
    "                             subsample=0.8)"
   ]
  },
  {
   "cell_type": "markdown",
   "metadata": {},
   "source": [
    "### XGBoost linear:"
   ]
  },
  {
   "cell_type": "code",
   "execution_count": 183,
   "metadata": {},
   "outputs": [],
   "source": [
    "model_xgb_linear = xgb.XGBRegressor(n_estimators=100, \n",
    "                                    alpha=0.1, \n",
    "                                    booster='gblinear', \n",
    "                                    eval_metric='rmse', \n",
    "                                    feature_selector='cyclic', \n",
    "                                    nthread=-1, \n",
    "                                    num_round=500, \n",
    "                                    objective='reg:linear', \n",
    "                                    reg_lambda=0.1, \n",
    "                                    seed=42, \n",
    "                                    silent=1)"
   ]
  },
  {
   "cell_type": "markdown",
   "metadata": {},
   "source": [
    "### LightGBM:"
   ]
  },
  {
   "cell_type": "code",
   "execution_count": 184,
   "metadata": {},
   "outputs": [],
   "source": [
    "model_lgb = lgb.LGBMRegressor(n_estimators=100, \n",
    "                              bagging_freq=6, \n",
    "                              bagging_seed=42, \n",
    "                              boosting='gbdt', \n",
    "                              feature_fraction=0.65, \n",
    "                              feature_fraction_seed=42, \n",
    "                              lambda_l1=0.1, \n",
    "                              lambda_l2=0.1, \n",
    "                              learning_rate=0.28, \n",
    "                              max_bin=260, \n",
    "                              max_depth=3, \n",
    "                              metric='rmse', \n",
    "                              min_data_in_leaf=2, \n",
    "                              min_sum_hessian_in_leaf=1, \n",
    "                              nthread=4, \n",
    "                              num_leaves=2, \n",
    "                              num_round=500, \n",
    "                              objective='huber', \n",
    "                              seed=42, \n",
    "                              subsample=0.75)"
   ]
  },
  {
   "cell_type": "markdown",
   "metadata": {},
   "source": [
    "**Create dict with scores**"
   ]
  },
  {
   "cell_type": "code",
   "execution_count": 185,
   "metadata": {},
   "outputs": [],
   "source": [
    "# scores = {'Lasso': np.array(0), \n",
    "#           'Ridge': np.array(0), \n",
    "#           'ElasticNet': np.array(0), \n",
    "#           'Kernel Ridge': np.array(0), \n",
    "#           'Gradient Boosting': np.array(0), \n",
    "#           'Xgboost': np.array(0), \n",
    "#           'Xgboost linear': np.array(0),\n",
    "#           'LGBM': np.array(0)}"
   ]
  },
  {
   "cell_type": "markdown",
   "metadata": {},
   "source": [
    "### Base models scores"
   ]
  },
  {
   "cell_type": "code",
   "execution_count": 186,
   "metadata": {},
   "outputs": [
    {
     "name": "stdout",
     "output_type": "stream",
     "text": [
      "\n",
      "Lasso previous score: 0.2826 (0.0158)\n",
      "Lasso actual score:   0.2825 (0.0155)\n",
      "\n"
     ]
    }
   ],
   "source": [
    "print(\"\\nLasso previous score: {:.4f} ({:.4f})\".format(scores['Lasso'].mean(), \n",
    "                                                       scores['Lasso'].std()))\n",
    "\n",
    "scores['Lasso'] = rmsle_cv(model_lasso, X_train, y_train)\n",
    "\n",
    "print(\"Lasso actual score:   {:.4f} ({:.4f})\\n\".format(scores['Lasso'].mean(), \n",
    "                                                       scores['Lasso'].std()))"
   ]
  },
  {
   "cell_type": "code",
   "execution_count": 187,
   "metadata": {},
   "outputs": [
    {
     "name": "stdout",
     "output_type": "stream",
     "text": [
      "\n",
      "Ridge previous score: 0.2854 (0.0140)\n",
      "Ridge actual score:   0.2853 (0.0138)\n",
      "\n"
     ]
    }
   ],
   "source": [
    "print(\"\\nRidge previous score: {:.4f} ({:.4f})\".format(scores['Ridge'].mean(), \n",
    "                                                       scores['Ridge'].std()))\n",
    "\n",
    "scores['Ridge'] = rmsle_cv(model_ridge, X_train, y_train)\n",
    "\n",
    "print(\"Ridge actual score:   {:.4f} ({:.4f})\\n\".format(scores['Ridge'].mean(), \n",
    "                                                       scores['Ridge'].std()))"
   ]
  },
  {
   "cell_type": "code",
   "execution_count": 188,
   "metadata": {},
   "outputs": [
    {
     "name": "stdout",
     "output_type": "stream",
     "text": [
      "\n",
      "ElasticNet previous score: 0.2815 (0.0158)\n",
      "ElasticNet actual score:   0.2813 (0.0154)\n",
      "\n"
     ]
    }
   ],
   "source": [
    "print(\"\\nElasticNet previous score: {:.4f} ({:.4f})\".format(scores['ElasticNet'].mean(), \n",
    "                                                            scores['ElasticNet'].std()))\n",
    "\n",
    "scores['ElasticNet'] = rmsle_cv(model_ENet, X_train, y_train)\n",
    "\n",
    "print(\"ElasticNet actual score:   {:.4f} ({:.4f})\\n\".format(scores['ElasticNet'].mean(), \n",
    "                                                            scores['ElasticNet'].std()))\n"
   ]
  },
  {
   "cell_type": "code",
   "execution_count": 189,
   "metadata": {},
   "outputs": [
    {
     "name": "stdout",
     "output_type": "stream",
     "text": [
      "\n",
      "Kernel Ridge previous score: 0.2804 (0.0150)\n",
      "Kernel Ridge actual score:   0.2803 (0.0151)\n",
      "\n"
     ]
    }
   ],
   "source": [
    "print(\"\\nKernel Ridge previous score: {:.4f} ({:.4f})\".format(scores['Kernel Ridge'].mean(), \n",
    "                                                              scores['Kernel Ridge'].std()))\n",
    "scores['Kernel Ridge'] = rmsle_cv(model_KRR, X_train, y_train)\n",
    "\n",
    "print(\"Kernel Ridge actual score:   {:.4f} ({:.4f})\\n\".format(scores['Kernel Ridge'].mean(), \n",
    "                                                              scores['Kernel Ridge'].std()))"
   ]
  },
  {
   "cell_type": "code",
   "execution_count": 190,
   "metadata": {},
   "outputs": [
    {
     "name": "stdout",
     "output_type": "stream",
     "text": [
      "\n",
      "Gradient Boosting previous score: 0.3161 (0.0211)\n",
      "Gradient Boosting actual score:   0.3199 (0.0204)\n",
      "\n",
      "CPU times: user 12.5 s, sys: 0 ns, total: 12.5 s\n",
      "Wall time: 12.3 s\n"
     ]
    }
   ],
   "source": [
    "%%time\n",
    "print(\"\\nGradient Boosting previous score: {:.4f} ({:.4f})\".format(scores['Gradient Boosting'].mean(), \n",
    "                                                                   scores['Gradient Boosting'].std()))\n",
    "\n",
    "scores['Gradient Boosting'] = rmsle_cv(model_GBoost, X_train, y_train)\n",
    "\n",
    "print(\"Gradient Boosting actual score:   {:.4f} ({:.4f})\\n\".format(scores['Gradient Boosting'].mean(), scores['Gradient Boosting'].std()))"
   ]
  },
  {
   "cell_type": "code",
   "execution_count": 191,
   "metadata": {},
   "outputs": [
    {
     "name": "stdout",
     "output_type": "stream",
     "text": [
      "\n",
      "Xgboost previous score: 0.3149 (0.0203)\n",
      "Xgboost actual score:   0.3185 (0.0189)\n",
      "\n",
      "CPU times: user 7.59 s, sys: 110 ms, total: 7.7 s\n",
      "Wall time: 2.24 s\n"
     ]
    }
   ],
   "source": [
    "%%time\n",
    "print(\"\\nXgboost previous score: {:.4f} ({:.4f})\".format(scores['Xgboost'].mean(), \n",
    "                                                         scores['Xgboost'].std()))\n",
    "\n",
    "scores['Xgboost'] = rmsle_cv(model_xgb, X_train, y_train)\n",
    "\n",
    "print(\"Xgboost actual score:   {:.4f} ({:.4f})\\n\".format(scores['Xgboost'].mean(), \n",
    "                                                         scores['Xgboost'].std()))"
   ]
  },
  {
   "cell_type": "code",
   "execution_count": 192,
   "metadata": {},
   "outputs": [
    {
     "name": "stdout",
     "output_type": "stream",
     "text": [
      "\n",
      "Xgboost linear previous score: 0.2948 (0.0132)\n",
      "Xgboost linear actual score:   0.2949 (0.0127)\n",
      "\n",
      "CPU times: user 11.3 s, sys: 220 ms, total: 11.6 s\n",
      "Wall time: 3.37 s\n"
     ]
    }
   ],
   "source": [
    "%%time\n",
    "print(\"\\nXgboost linear previous score: {:.4f} ({:.4f})\".format(scores['Xgboost linear'].mean(), \n",
    "                                                                scores['Xgboost linear'].std()))\n",
    "\n",
    "scores['Xgboost linear'] = rmsle_cv(model_xgb_linear, X_train, y_train)\n",
    "\n",
    "print(\"Xgboost linear actual score:   {:.4f} ({:.4f})\\n\".format(scores['Xgboost linear'].mean(), \n",
    "                                                                scores['Xgboost linear'].std()))"
   ]
  },
  {
   "cell_type": "code",
   "execution_count": 193,
   "metadata": {},
   "outputs": [
    {
     "name": "stdout",
     "output_type": "stream",
     "text": [
      "\n",
      "LGBM previous score: 0.3034 (0.0126)\n",
      "LGBM actual score:   0.3048 (0.0142)\n",
      "\n",
      "CPU times: user 6.59 s, sys: 260 ms, total: 6.85 s\n",
      "Wall time: 2.16 s\n"
     ]
    }
   ],
   "source": [
    "%%time\n",
    "print(\"\\nLGBM previous score: {:.4f} ({:.4f})\".format(scores['LGBM'].mean(), \n",
    "                                                      scores['LGBM'].std()))\n",
    "\n",
    "scores['LGBM'] = rmsle_cv(model_lgb, X_train, y_train)\n",
    "\n",
    "print(\"LGBM actual score:   {:.4f} ({:.4f})\\n\".format(scores['LGBM'].mean(), \n",
    "                                                      scores['LGBM'].std()))"
   ]
  },
  {
   "cell_type": "markdown",
   "metadata": {},
   "source": [
    "# Kaggle score"
   ]
  },
  {
   "cell_type": "markdown",
   "metadata": {},
   "source": [
    "Let's try to average predictions of this models with untuned parametrs and see score on leaderboard. "
   ]
  },
  {
   "cell_type": "code",
   "execution_count": 220,
   "metadata": {},
   "outputs": [],
   "source": [
    "lasso_test = model_lasso.fit(X_train, y_train)\n",
    "# lasso_test = np.expm1(lasso_test.predict(X_test).reshape(-1, 1))\n",
    "lasso_test = pt_target.inverse_transform(lasso_test.predict(X_test).reshape(-1, 1))"
   ]
  },
  {
   "cell_type": "code",
   "execution_count": 221,
   "metadata": {},
   "outputs": [],
   "source": [
    "ridge_test = model_ridge.fit(X_train, y_train)\n",
    "# ridge_test = np.expm1(ridge_test.predict(X_test).reshape(-1, 1))\n",
    "ridge_test = pt_target.inverse_transform(ridge_test.predict(X_test).reshape(-1, 1))"
   ]
  },
  {
   "cell_type": "code",
   "execution_count": 222,
   "metadata": {},
   "outputs": [],
   "source": [
    "elastic_test = model_ENet.fit(X_train, y_train)\n",
    "# elastic_test = np.expm1(elastic_test.predict(X_test).reshape(-1, 1))\n",
    "elastic_test = pt_target.inverse_transform(elastic_test.predict(X_test).reshape(-1, 1))"
   ]
  },
  {
   "cell_type": "code",
   "execution_count": 223,
   "metadata": {},
   "outputs": [],
   "source": [
    "kernel_test = model_KRR.fit(X_train, y_train)\n",
    "#kernel_test = np.expm1(kernel_test.predict(X_test).reshape(-1, 1))\n",
    "kernel_test = pt_target.inverse_transform(kernel_test.predict(X_test).reshape(-1, 1))"
   ]
  },
  {
   "cell_type": "code",
   "execution_count": 224,
   "metadata": {},
   "outputs": [],
   "source": [
    "gb_test = model_GBoost.fit(X_train, y_train)\n",
    "\n",
    "# gb_test = np.expm1(gb_test.predict(X_test).reshape(-1, 1))\n",
    "gb_test = pt_target.inverse_transform(gb_test.predict(X_test).reshape(-1, 1))"
   ]
  },
  {
   "cell_type": "code",
   "execution_count": 225,
   "metadata": {},
   "outputs": [],
   "source": [
    "xgb_test = model_xgb.fit(X_train, y_train)\n",
    "\n",
    "# xgb_test = np.expm1(xgb_test.predict(X_test).reshape(-1, 1))\n",
    "xgb_test = pt_target.inverse_transform(xgb_test.predict(X_test).reshape(-1, 1))"
   ]
  },
  {
   "cell_type": "code",
   "execution_count": 226,
   "metadata": {},
   "outputs": [],
   "source": [
    "xgb_linear_test = model_xgb_linear.fit(X_train, y_train)\n",
    "\n",
    "# xgb_linear_test = np.expm1(xgb_linear_test.predict(X_test).reshape(-1, 1))\n",
    "xgb_linear_test = pt_target.inverse_transform(xgb_linear_test.predict(X_test).reshape(-1, 1))"
   ]
  },
  {
   "cell_type": "code",
   "execution_count": 227,
   "metadata": {},
   "outputs": [],
   "source": [
    "lgb_test = model_lgb.fit(X_train, y_train)\n",
    "\n",
    "# lgb_test = np.expm1(lgb_test.predict(X_test).reshape(-1, 1))\n",
    "lgb_test = pt_target.inverse_transform(lgb_test.predict(X_test).reshape(-1, 1))"
   ]
  },
  {
   "cell_type": "code",
   "execution_count": 228,
   "metadata": {},
   "outputs": [],
   "source": [
    "predicted_test = 0.125 * lasso_test + \\\n",
    "                 0.125 * ridge_test + \\\n",
    "                 0.125 * elastic_test + \\\n",
    "                 0.125 * kernel_test + \\\n",
    "                 0.125 * gb_test + \\\n",
    "                 0.125 * xgb_test + \\\n",
    "                 0.125 * xgb_linear_test + \\\n",
    "                 0.125 * lgb_test\n"
   ]
  },
  {
   "cell_type": "code",
   "execution_count": 229,
   "metadata": {},
   "outputs": [],
   "source": [
    "write_to_submission_file(predicted_test, 'house_pricing_submission.csv')"
   ]
  },
  {
   "cell_type": "markdown",
   "metadata": {},
   "source": [
    "The score is 0.11667, previous test score was 0.11629"
   ]
  }
 ],
 "metadata": {
  "kernelspec": {
   "display_name": "Python 3",
   "language": "python",
   "name": "python3"
  },
  "language_info": {
   "codemirror_mode": {
    "name": "ipython",
    "version": 3
   },
   "file_extension": ".py",
   "mimetype": "text/x-python",
   "name": "python",
   "nbconvert_exporter": "python",
   "pygments_lexer": "ipython3",
   "version": "3.6.6"
  }
 },
 "nbformat": 4,
 "nbformat_minor": 2
}
